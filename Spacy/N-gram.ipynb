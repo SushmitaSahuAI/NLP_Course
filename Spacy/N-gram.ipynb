{
 "cells": [
  {
   "cell_type": "markdown",
   "id": "49f746b0-c9ef-491d-a0b2-d85aa48ebbbf",
   "metadata": {},
   "source": [
    "# N-Gram\n",
    "An N-gram is a sequence of N tokens (or words).\n",
    "\n",
    "Let’s understand N-gram with an example. Consider the following sentence:\n",
    "\n",
    "“I love reading blogs about data science.”\n",
    "\n",
    "A 1-gram (or unigram) is a one-word sequence. For the above sentence, the unigrams would simply be: “I”, “love”, “reading”, “blogs”, “about”, “data”, “science”.\n",
    "\n",
    "A 2-gram (or bigram) is a two-word sequence of words, like “I love”, “love reading”. \n",
    "And a 3-gram (or trigram) is a three-word sequence of words like “I love reading”, “about data science” .\n",
    "\n",
    "## How do N-gram Language Models work?\n",
    "<img src = \"https://cdn.analyticsvidhya.com/wp-content/uploads/2019/08/LM1.jpg\">\n",
    "An N-gram language model predicts the probability of a given N-gram within any sequence of words in the language. If we have a good N-gram model, we can predict p(w | h) – what is the probability of seeing the word w given a history of previous words h – where the history contains n-1 words.\n",
    "<img src = \"ngram.PNG\">"
   ]
  },
  {
   "cell_type": "code",
   "execution_count": 1,
   "id": "47b49007-228b-4d8b-91d2-4e9e1c8f4ad7",
   "metadata": {},
   "outputs": [],
   "source": [
    "import spacy\n",
    "from ngrams import bigram"
   ]
  },
  {
   "cell_type": "code",
   "execution_count": 3,
   "id": "b2c7a199-fa33-47e6-8bd2-2cbd6969066d",
   "metadata": {},
   "outputs": [],
   "source": [
    "# load English model\n",
    "nlp = spacy.load('en_core_web_sm')"
   ]
  },
  {
   "cell_type": "code",
   "execution_count": 4,
   "id": "f0bfb28e-c783-4ad8-91f4-a55ff4ae17cf",
   "metadata": {},
   "outputs": [
    {
     "name": "stdout",
     "output_type": "stream",
     "text": [
      "I ordered \n",
      "ordered steak \n",
      "steak from \n",
      "from the \n",
      "the butcher \n"
     ]
    }
   ],
   "source": [
    "# create a document\n",
    "doc = nlp(\"I ordered steak from the butcher.\")\n",
    "\n",
    "result = bigram(doc)\n",
    "\n",
    "for element in result:\n",
    "    for token in element:\n",
    "        print(token, end=' ')\n",
    "    print()  # new line"
   ]
  },
  {
   "cell_type": "code",
   "execution_count": null,
   "id": "0acceca3-b6e5-47ff-b162-6c8da45985ee",
   "metadata": {},
   "outputs": [],
   "source": []
  }
 ],
 "metadata": {
  "kernelspec": {
   "display_name": "Python 3 (ipykernel)",
   "language": "python",
   "name": "python3"
  },
  "language_info": {
   "codemirror_mode": {
    "name": "ipython",
    "version": 3
   },
   "file_extension": ".py",
   "mimetype": "text/x-python",
   "name": "python",
   "nbconvert_exporter": "python",
   "pygments_lexer": "ipython3",
   "version": "3.7.10"
  }
 },
 "nbformat": 4,
 "nbformat_minor": 5
}
