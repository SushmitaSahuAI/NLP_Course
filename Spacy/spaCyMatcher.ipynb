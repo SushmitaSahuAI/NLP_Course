{
 "cells": [
  {
   "cell_type": "markdown",
   "id": "62cbdaf1-1ef6-435f-80c9-22e19fc67848",
   "metadata": {},
   "source": [
    "# Rule based Matching\n",
    "Consider the sentence “Windows 8.0 has become outdated and slow. It’s better to update to Windows 10”. What if you want to extracts all versions of Windows mentioned in the text ?\n",
    "\n",
    "There will be situations like these, where you’ll need extract specific pattern type phrases from the text. This is called Rule-based matching.\n",
    "\n",
    "Rule-based matching in spacy allows you write your own rules to find or extract words and phrases in a text. spacy supports three kinds of matching methods :\n",
    "\n",
    "- Token Matcher\n",
    "- Phrase Matcher\n",
    "- Entity Ruler"
   ]
  },
  {
   "cell_type": "markdown",
   "id": "5cfc6092-cb6a-47fa-8ca5-68ff6729ae1a",
   "metadata": {},
   "source": [
    "## Token Matcher\n",
    "spaCy supports a rule based matching engine Matcher, which operates over individual tokens to find desired phrases."
   ]
  },
  {
   "cell_type": "code",
   "execution_count": 1,
   "id": "588a26f1-d50e-418b-b538-7a90a8e36b60",
   "metadata": {},
   "outputs": [],
   "source": [
    "import spacy\n",
    "from spacy.matcher import Matcher "
   ]
  },
  {
   "cell_type": "code",
   "execution_count": 2,
   "id": "3dcd60b7-e8c4-46ee-84cf-0fc3ba7cf77a",
   "metadata": {},
   "outputs": [],
   "source": [
    "nlp=spacy.load(\"en_core_web_sm\")"
   ]
  },
  {
   "cell_type": "code",
   "execution_count": 3,
   "id": "e7451489-6e63-49de-9fb6-51a63df08d21",
   "metadata": {},
   "outputs": [
    {
     "data": {
      "text/plain": [
       "<spacy.matcher.matcher.Matcher at 0x7f2606703710>"
      ]
     },
     "execution_count": 3,
     "metadata": {},
     "output_type": "execute_result"
    }
   ],
   "source": [
    "# Initializing the matcher with vocab\n",
    "matcher = Matcher(nlp.vocab)\n",
    "matcher"
   ]
  },
  {
   "cell_type": "code",
   "execution_count": 4,
   "id": "77df4dc6-e057-4a00-9c6c-9d6fde68c7b9",
   "metadata": {},
   "outputs": [],
   "source": [
    "# Define the matching pattern\n",
    "my_pattern=[{\"LOWER\": \"version\"}, {\"IS_PUNCT\": True}, {\"LIKE_NUM\": True}]"
   ]
  },
  {
   "cell_type": "markdown",
   "id": "9398f69c-5432-4640-bab1-78ff5e38e5ad",
   "metadata": {},
   "source": [
    "**************************************************\n",
    "You can add the pattern to your Matcher through matcher.add() function.\n",
    "\n",
    "\n",
    "The input parameters are:\n",
    "\n",
    "- match_id – a custom id for your matcher . In this case I use ” Versionfinder”\n",
    "- match_on– It is an optional parameter, where you can call functions when a match is found. Otherwise, use None\n",
    "- patterns – You need to pass your pattern (list of dicts describing tokens)"
   ]
  },
  {
   "cell_type": "code",
   "execution_count": 6,
   "id": "8ca92b23-3a9f-46a4-8f54-885a71c70e0f",
   "metadata": {},
   "outputs": [
    {
     "ename": "ValueError",
     "evalue": "[E178] Each pattern should be a list of dicts, but got: {'LOWER': 'version'}. Maybe you accidentally passed a single pattern to Matcher.add instead of a list of patterns? If you only want to add one pattern, make sure to wrap it in a list. For example: `matcher.add('VersionFinder', [pattern])`",
     "output_type": "error",
     "traceback": [
      "\u001b[0;31m---------------------------------------------------------------------------\u001b[0m",
      "\u001b[0;31mValueError\u001b[0m                                Traceback (most recent call last)",
      "\u001b[0;32m/tmp/ipykernel_6833/651934500.py\u001b[0m in \u001b[0;36m<module>\u001b[0;34m\u001b[0m\n\u001b[1;32m      1\u001b[0m \u001b[0;31m# Define the token matcher\u001b[0m\u001b[0;34m\u001b[0m\u001b[0;34m\u001b[0m\u001b[0;34m\u001b[0m\u001b[0m\n\u001b[0;32m----> 2\u001b[0;31m \u001b[0mmatcher\u001b[0m\u001b[0;34m.\u001b[0m\u001b[0madd\u001b[0m\u001b[0;34m(\u001b[0m\u001b[0;34m'VersionFinder'\u001b[0m\u001b[0;34m,\u001b[0m \u001b[0mmy_pattern\u001b[0m\u001b[0;34m)\u001b[0m\u001b[0;34m\u001b[0m\u001b[0;34m\u001b[0m\u001b[0m\n\u001b[0m",
      "\u001b[0;32m/opt/conda/lib/python3.7/site-packages/spacy/matcher/matcher.pyx\u001b[0m in \u001b[0;36mspacy.matcher.matcher.Matcher.add\u001b[0;34m()\u001b[0m\n",
      "\u001b[0;31mValueError\u001b[0m: [E178] Each pattern should be a list of dicts, but got: {'LOWER': 'version'}. Maybe you accidentally passed a single pattern to Matcher.add instead of a list of patterns? If you only want to add one pattern, make sure to wrap it in a list. For example: `matcher.add('VersionFinder', [pattern])`"
     ]
    }
   ],
   "source": [
    "# Define the token matcher\n",
    "matcher.add('VersionFinder', my_pattern)"
   ]
  },
  {
   "cell_type": "code",
   "execution_count": 7,
   "id": "721b879a-12bc-4ef2-b22a-16f9a827e705",
   "metadata": {},
   "outputs": [],
   "source": [
    "# Define the token matcher\n",
    "matcher.add('VersionFinder', [my_pattern])"
   ]
  },
  {
   "cell_type": "code",
   "execution_count": 8,
   "id": "a6040fc2-997b-4ca3-aaf5-e47a105ea1b0",
   "metadata": {},
   "outputs": [
    {
     "data": {
      "text/plain": [
       "[(6950581368505071052, 1, 4),\n",
       " (6950581368505071052, 27, 30),\n",
       " (6950581368505071052, 65, 68)]"
      ]
     },
     "execution_count": 8,
     "metadata": {},
     "output_type": "execute_result"
    }
   ],
   "source": [
    "# Run the Token Matcher\n",
    "my_text = 'The version : 6 of the app was released about a year back and was not very sucessful. As a comeback, six months ago, version : 7 was released and it took the stage. After that , the app has has the limelight till now. On interviewing some sources, we get to know that they have outlined visiond till version : 12 ,the Ultimate.'\n",
    "my_doc = nlp(my_text)\n",
    "\n",
    "desired_matches = matcher(my_doc)\n",
    "desired_matches"
   ]
  },
  {
   "cell_type": "markdown",
   "id": "1f5eff8e-01a8-4115-a280-1ac0ef6c40c3",
   "metadata": {},
   "source": [
    "Passing the Doc to matcher() returns a list of tuples as shown above. Each tuple has the structure –(match_id, start, end).\n",
    "\n",
    "match_id denotes the hash value of the matching string.You can find the string corresponding to the ID in nlp.vocab.strings. The start and end denote the starting and ending token numbers of the document, which is a match."
   ]
  },
  {
   "cell_type": "code",
   "execution_count": 9,
   "id": "5878808b-c018-45fb-818c-2d382c32eba4",
   "metadata": {},
   "outputs": [
    {
     "name": "stdout",
     "output_type": "stream",
     "text": [
      "version : 6\n",
      "version : 7\n",
      "version : 12\n"
     ]
    }
   ],
   "source": [
    "# Extract the matches\n",
    "for match_id, start, end in desired_matches :\n",
    "    string_id = nlp.vocab.strings[match_id] \n",
    "    span = my_doc[start:end] \n",
    "    print(span.text)"
   ]
  },
  {
   "cell_type": "code",
   "execution_count": 10,
   "id": "451861ee-fb54-409e-84bb-b9e7d19596f6",
   "metadata": {},
   "outputs": [],
   "source": [
    "# Parse text\n",
    "text = \"\"\"I visited Manali last time. Around same budget trips ? \"\n",
    "    I was visiting Ladakh this summer \"\n",
    "    I have planned visiting NewYork and other abroad places for next year\"\n",
    "    Have you ever visited Kodaikanal? \"\"\"\n",
    "\n",
    "doc = nlp(text)"
   ]
  },
  {
   "cell_type": "code",
   "execution_count": 12,
   "id": "77cce914-52a7-43ab-906c-b3fab5d3a595",
   "metadata": {},
   "outputs": [
    {
     "name": "stdout",
     "output_type": "stream",
     "text": [
      " matches found: 4\n",
      "Match found: visited Manali\n",
      "Match found: visiting Ladakh\n",
      "Match found: visiting NewYork\n",
      "Match found: visited Kodaikanal\n"
     ]
    }
   ],
   "source": [
    "# Initialize the matcher\n",
    "matcher = Matcher(nlp.vocab)\n",
    "\n",
    "# Write a pattern that matches a form of \"visit\" + place\n",
    "my_pattern = [{\"LEMMA\": \"visit\"}, {\"POS\": \"PROPN\"}]\n",
    "\n",
    "# Add the pattern to the matcher and apply the matcher to the doc\n",
    "matcher.add(\"Visting_places\", [my_pattern])\n",
    "matches = matcher(doc)\n",
    "\n",
    "# Counting the no of matches\n",
    "print(\" matches found:\", len(matches))\n",
    "\n",
    "# Iterate over the matches and print the span text\n",
    "for match_id, start, end in matches:\n",
    "    print(\"Match found:\", doc[start:end].text)"
   ]
  },
  {
   "cell_type": "code",
   "execution_count": 13,
   "id": "e55abba8-2dc2-447b-bb78-670a92365c15",
   "metadata": {},
   "outputs": [],
   "source": [
    "# Parse text\n",
    "engineering_text = \"\"\"If you study aeronautical engineering, you could specialize in aerodynamics, aeroelasticity, \n",
    "composites analysis, avionics, propulsion and structures and materials. If you choose to study chemical engineering, you may like to\n",
    "specialize in chemical reaction engineering, plant design, process engineering, process design or transport phenomena. Civil engineering is the professional practice of designing and developing infrastructure projects. This can be on a huge scale, such as the development of\n",
    "nationwide transport systems or water supply networks, or on a smaller scale, such as the development of single roads or buildings.\n",
    "specializations of civil engineering include structural engineering, architectural engineering, transportation engineering, geotechnical engineering,\n",
    "environmental engineering and hydraulic engineering. Computer engineering concerns the design and prototyping of computing hardware and software. \n",
    "This subject merges electrical engineering with computer science, oldest and broadest types of engineering, mechanical engineering is concerned with the design,\n",
    "manufacturing and maintenance of mechanical systems. You’ll study statics and dynamics, thermodynamics, fluid dynamics, stress analysis, mechanical design and\n",
    "technical drawing\"\"\"\n",
    "\n",
    "doc = nlp(engineering_text)"
   ]
  },
  {
   "cell_type": "code",
   "execution_count": 15,
   "id": "866a84ae-1016-4e43-a0c8-1b9ef951c5e9",
   "metadata": {},
   "outputs": [
    {
     "name": "stdout",
     "output_type": "stream",
     "text": [
      "Total matches found: 15\n",
      "Match found: aeronautical engineering\n",
      "Match found: chemical engineering\n",
      "Match found: reaction engineering\n",
      "Match found: process engineering\n",
      "Match found: Civil engineering\n",
      "Match found: civil engineering\n",
      "Match found: structural engineering\n",
      "Match found: architectural engineering\n",
      "Match found: transportation engineering\n",
      "Match found: geotechnical engineering\n",
      "Match found: environmental engineering\n",
      "Match found: hydraulic engineering\n",
      "Match found: Computer engineering\n",
      "Match found: electrical engineering\n",
      "Match found: mechanical engineering\n"
     ]
    }
   ],
   "source": [
    "# Initializing the matcher\n",
    "matcher = Matcher(nlp.vocab)\n",
    "\n",
    "# Write a pattern that matches a form of \"noun/adjective\"+\"engineering\"\n",
    "my_pattern = [{\"POS\": {\"IN\": [\"NOUN\", \"ADJ\"]}}, {\"LOWER\": \"engineering\"}]\n",
    "\n",
    "# Add the pattern to the matcher and apply the matcher to the doc\n",
    "matcher.add(\"identify_courses\", [my_pattern])\n",
    "matches = matcher(doc)\n",
    "print(\"Total matches found:\", len(matches))\n",
    "\n",
    "# Iterate over the matches and print the matching text\n",
    "for match_id, start, end in matches:\n",
    "    print(\"Match found:\", doc[start:end].text)"
   ]
  },
  {
   "cell_type": "markdown",
   "id": "139ec240-c0dc-46de-bf4a-172234f24e02",
   "metadata": {},
   "source": [
    "# Phrase Matcher\n",
    "Using Matcher of spacy you can identify token patterns as seen above. But when you have a phrase to be matched, using Matcher will take a lot of time and is not efficient.\n",
    "\n",
    "spaCy provides PhraseMatcher which can be used when you have a large number of terms(single or multi-tokens) to be matched in a text document. Writing patterns for Matcher is very difficult in this case. PhraseMatcher solves this problem, as you can pass Doc patterns rather than Token patterns."
   ]
  },
  {
   "cell_type": "code",
   "execution_count": 16,
   "id": "59087440-7ce0-44cf-8802-e70bd600043e",
   "metadata": {},
   "outputs": [],
   "source": [
    "from spacy.matcher import PhraseMatcher"
   ]
  },
  {
   "cell_type": "code",
   "execution_count": 17,
   "id": "40c255ce-e14c-4d94-bb17-ce4c2763f684",
   "metadata": {},
   "outputs": [],
   "source": [
    "# PhraseMatcher\n",
    "matcher = PhraseMatcher(nlp.vocab)"
   ]
  },
  {
   "cell_type": "code",
   "execution_count": 18,
   "id": "d77940c1-1005-4c32-a6a0-6620f2ec6098",
   "metadata": {},
   "outputs": [],
   "source": [
    "# Terms to match\n",
    "terms_list = ['Bruce Wayne', 'Tony Stark', 'Batman', 'Harry Potter', 'Severus Snape']"
   ]
  },
  {
   "cell_type": "code",
   "execution_count": 19,
   "id": "e432c4c6-d421-410e-8e64-425048bbf749",
   "metadata": {},
   "outputs": [],
   "source": [
    "# Make a list of docs\n",
    "patterns = [nlp.make_doc(text) for text in terms_list]"
   ]
  },
  {
   "cell_type": "code",
   "execution_count": 20,
   "id": "bb185bb1-2810-449a-b4e8-63b19ef31cc7",
   "metadata": {},
   "outputs": [],
   "source": [
    "matcher.add(\"phrase_matcher\", None, *patterns)"
   ]
  },
  {
   "cell_type": "code",
   "execution_count": 21,
   "id": "2ab2ac92-b7e3-4afc-94bc-ca503813f8d5",
   "metadata": {},
   "outputs": [],
   "source": [
    "# Matcher Object\n",
    "fictional_char_doc = nlp(\"\"\"Superman (first appearance: 1938)  Created by Jerry Siegal and Joe Shuster for Action Comics #1 (DC Comics).Mickey Mouse (1928)  Created by Walt Disney and Ub Iworks for Steamboat Willie.Bugs Bunny (1940)  Created by Warner Bros and originally voiced by Mel Blanc.Batman (1939) Created by Bill Finger and Bob Kane for Detective Comics #27 (DC Comics).\n",
    "Dorothy Gale (1900)  Created by L. Frank Baum for novel The Wonderful Wizard of Oz. Later portrayed by Judy Garland in the 1939 film adaptation.Darth Vader (1977) Created by George Lucas for Star Wars IV: A New Hope.The Tramp (1914)  Created and portrayed by Charlie Chaplin for Kid Auto Races at Venice.Peter Pan (1902)  Created by J.M. Barrie for novel The Little White Bird.\n",
    "Indiana Jones (1981)  Created by George Lucas for Raiders of the Lost Ark. Portrayed by Harrison Ford.Rocky Balboa (1976)  Created and portrayed by Sylvester Stallone for Rocky.Vito Corleone (1969) Created by Mario Puzo for novel The Godfather. Later portrayed by Marlon Brando and Robert DeNiro in Coppola’s film adaptation.Han Solo (1977) Created by George Lucas for Star Wars IV: A New Hope. \n",
    "Portrayed most famously by Harrison Ford.Homer Simpson (1987)  Created by Matt Groening for The Tracey Ullman Show, later The Simpsons as voiced by Dan Castellaneta.Archie Bunker (1971) Created by Norman Lear for All in the Family. Portrayed by Carroll O’Connor.Norman Bates (1959) Created by Robert Bloch for novel Psycho.  Later portrayed by Anthony Perkins in Hitchcock’s film adaptation.King Kong (1933) \n",
    "Created by Edgar Wallace and Merian C Cooper for the film King Kong.Lucy Ricardo (1951) Portrayed by Lucille Ball for I Love Lucy.Spiderman (1962)  Created by Stan Lee and Steve Ditko for Amazing Fantasy #15 (Marvel Comics).Barbie (1959)  Created by Ruth Handler for the toy company Mattel Spock (1964)  Created by Gene Roddenberry for Star Trek. Portrayed most famously by Leonard Nimoy.\n",
    "Godzilla (1954) Created by Tomoyuki Tanaka, Ishiro Honda, and Eiji Tsubaraya for the film Godzilla.The Joker (1940)  Created by Jerry Robinson, Bill Finger, and Bob Kane for Batman #1 (DC Comics)Winnie-the-Pooh (1924)  Created by A.A. Milne for verse book When We Were Young.Popeye (1929)  Created by E.C. Segar for comic strip Thimble Theater (King Features).Tarzan (1912) Created by Edgar Rice Burroughs for the novel Tarzan of the Apes.Forrest Gump (1986)  Created by Winston Groom for novel Forrest Gump.  Later portrayed by Tom Hanks in Zemeckis’ film adaptation.Hannibal Lector (1981)  Created by Thomas Harris for the novel Red Dragon. Portrayed most famously by Anthony Hopkins in the 1991 Jonathan Demme film The Silence of the Lambs.\n",
    "Big Bird (1969) Created by Jim Henson and portrayed by Carroll Spinney for Sesame Street.Holden Caulfield (1945) Created by J.D. Salinger for the Collier’s story “I’m Crazy.”  Reworked into the novel The Catcher in the Rye in 1951.Tony Montana (1983)  Created by Oliver Stone for film Scarface.  Portrayed by Al Pacino.Tony Soprano (1999)  Created by David Chase for The Sopranos. Portrayed by James Gandolfini.\n",
    "The Terminator (1984)  Created by James Cameron and Gale Anne Hurd for The Terminator. Portrayed by Arnold Schwarzenegger.Jon Snow (1996)  Created by George RR Martin for the novel The Game of Thrones.  Portrayed by Kit Harrington.Charles Foster Kane (1941)  Created and portrayed by Orson Welles for Citizen Kane.Scarlett O’Hara (1936)  Created by Margaret Mitchell for the novel Gone With the Wind. Portrayed most famously by Vivien Leigh \n",
    "for the 1939 Victor Fleming film adaptation.Marty McFly (1985) Created by Robert Zemeckis and Bob Gale for Back to the Future. Portrayed by Michael J. Fox.Rick Blaine (1940)  Created by Murray Burnett and Joan Alison for the unproduced stage play Everybody Comes to Rick’s. Later portrayed by Humphrey Bogart in Michael Curtiz’s film adaptation Casablanca.Man With No Name (1964)  Created by Sergio Leone for A Fistful of Dollars, which was adapted from a ronin character in Kurosawa’s Yojimbo (1961).  Portrayed by Clint Eastwood.Charlie Brown (1948)  Created by Charles M. Shultz for the comic strip L’il Folks; popularized two years later in Peanuts.E.T. (1982)  Created by Melissa Mathison for the film E.T.: the Extra-Terrestrial.Arthur Fonzarelli (1974)  Created by Bob Brunner for the show Happy Days. Portrayed by Henry Winkler.)Phillip Marlowe (1939)  Created by Raymond Chandler for the novel The Big Sleep.Jay Gatsby (1925)  Created by F. Scott Fitzgerald for the novel The Great Gatsby.Lassie (1938) Created by Eric Knight for a Saturday Evening Post story, later turned into the novel Lassie Come-Home in 1940, film adaptation in 1943, and long-running television show in 1954.  Most famously portrayed by the dog Pal.\n",
    "Fred Flintstone (1959)  Created by William Hanna and Joseph Barbera for The Flintstones. Voiced most notably by Alan Reed. Rooster Cogburn (1968)  Created by Charles Portis for the novel True Grit. Most famously portrayed by John Wayne in the 1969 film adaptation. Atticus Finch (1960)  Created by Harper Lee for the novel To Kill a Mockingbird.  (Appeared in the earlier work Go Set A Watchman, though this was not published until 2015)  Portrayed most famously by Gregory Peck in the Robert Mulligan film adaptation. Kermit the Frog (1955)  Created and performed by Jim Henson for the show Sam and Friends. Later popularized in Sesame Street (1969) and The Muppet Show (1976) George Bailey (1943)  Created by Phillip Van Doren Stern (then as George Pratt) for the short story The Greatest Gift. Later adapted into Capra’s It’s A Wonderful Life, starring James Stewart as the renamed George Bailey. Yoda (1980) Created by George Lucas for The Empire Strikes Back. Sam Malone (1982)  Created by Glen and Les Charles for the show Cheers.  Portrayed by Ted Danson. Zorro (1919)  Created by Johnston McCulley for the All-Story Weekly pulp magazine story The Curse of Capistrano.Later adapted to the Douglas Fairbanks’ film The Mark of Zorro (1920).Moe, Larry, and Curly (1928)  Created by Ted Healy for the vaudeville act Ted Healy and his Stooges. Mary Poppins (1934)  Created by P.L. Travers for the children’s book Mary Poppins. Ron Burgundy (2004)  Created by Will Ferrell and Adam McKay for the film Anchorman: The Legend of Ron Burgundy.  Portrayed by Will Ferrell. Mario (1981)  Created by Shigeru Miyamoto for the video game Donkey Kong. Harry Potter (1997)  Created by J.K. Rowling for the novel Harry Potter and the Philosopher’s Stone. The Dude (1998)  Created by Ethan and Joel Coen for the film The Big Lebowski. Portrayed by Jeff Bridges.\n",
    "Gandalf (1937)  Created by J.R.R. Tolkien for the novel The Hobbit. The Grinch (1957)  Created by Dr. Seuss for the story How the Grinch Stole Christmas! Willy Wonka (1964)  Created by Roald Dahl for the children’s novel Charlie and the Chocolate Factory. The Hulk (1962)  Created by Stan Lee and Jack Kirby for The Incredible Hulk #1 (Marvel Comics) Scooby-Doo (1969)  Created by Joe Ruby and Ken Spears for the show Scooby-Doo, Where Are You! George Costanza (1989)  Created by Larry David and Jerry Seinfeld for the show Seinfeld.  Portrayed by Jason Alexander.Jules Winfield (1994)  Created by Quentin Tarantino for the film Pulp Fiction. Portrayed by Samuel L. Jackson. John McClane (1988)  Based on the character Detective Joe Leland, who was created by Roderick Thorp for the novel Nothing Lasts Forever. Later adapted into the John McTernan film Die Hard, starring Bruce Willis as McClane. Ellen Ripley (1979)  Created by Don O’cannon and Ronald Shusett for the film Alien.  Portrayed by Sigourney Weaver. Ralph Kramden (1951)  Created and portrayed by Jackie Gleason for “The Honeymooners,” which became its own show in 1955.Edward Scissorhands (1990)  Created by Tim Burton for the film Edward Scissorhands.  Portrayed by Johnny Depp.Eric Cartman (1992)  Created by Trey Parker and Matt Stone for the animated short Jesus vs Frosty.  Later developed into the show South Park, which premiered in 1997.  Voiced by Trey Parker.\n",
    "Walter White (2008)  Created by Vince Gilligan for Breaking Bad.  Portrayed by Bryan Cranston. Cosmo Kramer (1989)  Created by Larry David and Jerry Seinfeld for Seinfeld.  Portrayed by Michael Richards.Pikachu (1996)  Created by Atsuko Nishida and Ken Sugimori for the Pokemon video game and anime franchise.Michael Scott (2005)  Based on a character from the British series The Office, created by Ricky Gervais and Steven Merchant.  Portrayed by Steve Carell.Freddy Krueger (1984)  Created by Wes Craven for the film A Nightmare on Elm Street. Most famously portrayed by Robert Englund.\n",
    "Captain America (1941)  Created by Joe Simon and Jack Kirby for Captain America Comics #1 (Marvel Comics)Goku (1984)  Created by Akira Toriyama for the manga series Dragon Ball Z.Bambi (1923)  Created by Felix Salten for the children’s book Bambi, a Life in the Woods. Later adapted into the Disney film Bambi in 1942.Ronald McDonald (1963) Created by Williard Scott for a series of television spots.Waldo/Wally (1987) Created by Martin Hanford for the children’s book Where’s Wally? (Waldo in US edition) Frasier Crane (1984)  Created by Glen and Les Charles for Cheers.  Portrayed by Kelsey Grammar.Omar Little (2002)  Created by David Simon for The Wire.Portrayed by Michael K. Williams.\n",
    "Wolverine (1974)  Created by Roy Thomas, Len Wein, and John Romita Sr for The Incredible Hulk #180 (Marvel Comics) Jason Voorhees (1980)  Created by Victor Miller for the film Friday the 13th. Betty Boop (1930)  Created by Max Fleischer and the Grim Network for the cartoon Dizzy Dishes. Bilbo Baggins (1937)  Created by J.R.R. Tolkien for the novel The Hobbit. Tom Joad (1939)  Created by John Steinbeck for the novel The Grapes of Wrath. Later adapted into the 1940 John Ford film and portrayed by Henry Fonda.Tony Stark (Iron Man) (1963)  Created by Stan Lee, Larry Lieber, Don Heck and Jack Kirby for Tales of Suspense #39 (Marvel Comics)Porky Pig (1935)  Created by Friz Freleng for the animated short film I Haven’t Got a Hat. Voiced most famously by Mel Blanc.Travis Bickle (1976)  Created by Paul Schrader for the film Taxi Driver. Portrayed by Robert De Niro.\n",
    "Hawkeye Pierce (1968)  Created by Richard Hooker for the novel MASH: A Novel About Three Army Doctors.  Famously portrayed by both Alan Alda and Donald Sutherland. Don Draper (2007)  Created by Matthew Weiner for the show Mad Men.  Portrayed by Jon Hamm. Cliff Huxtable (1984)  Created and portrayed by Bill Cosby for The Cosby Show. Jack Torrance (1977)  Created by Stephen King for the novel The Shining. Later adapted into the 1980 Stanley Kubrick film and portrayed by Jack Nicholson. Holly Golightly (1958)  Created by Truman Capote for the novella Breakfast at Tiffany’s.  Later adapted into the 1961 Blake Edwards films starring Audrey Hepburn as Holly. Shrek (1990)  Created by William Steig for the children’s book Shrek! Later adapted into the 2001 film starring Mike Myers as the titular character. Optimus Prime (1984)  Created by Dennis O’Neil for the Transformers toy line.Sonic the Hedgehog (1991)  Created by Naoto Ohshima and Yuji Uekawa for the Sega Genesis game of the same name.Harry Callahan (1971)  Created by Harry Julian Fink and R.M. Fink for the movie Dirty Harry.  Portrayed by Clint Eastwood.Bubble: Hercule Poirot, Tyrion Lannister, Ron Swanson, Cercei Lannister, J.R. Ewing, Tyler Durden, Spongebob Squarepants, The Genie from Aladdin, Pac-Man, Axel Foley, Terry Malloy, Patrick Bateman\n",
    "Pre-20th Century: Santa Claus, Dracula, Robin Hood, Cinderella, Huckleberry Finn, Odysseus, Sherlock Holmes, Romeo and Juliet, Frankenstein, Prince Hamlet, Uncle Sam, Paul Bunyan, Tom Sawyer, Pinocchio, Oliver Twist, Snow White, Don Quixote, Rip Van Winkle, Ebenezer Scrooge, Anna Karenina, Ichabod Crane, John Henry, The Tooth Fairy,\n",
    "Br’er Rabbit, Long John Silver, The Mad Hatter, Quasimodo \"\"\")\n",
    "\n",
    "\n",
    "character_matches = matcher(fictional_char_doc)"
   ]
  },
  {
   "cell_type": "code",
   "execution_count": 22,
   "id": "2fcf4c79-4be0-4550-a4db-eb5b146fb7e4",
   "metadata": {},
   "outputs": [
    {
     "data": {
      "text/plain": [
       "[(520014689628841516, 56, 57),\n",
       " (520014689628841516, 449, 450),\n",
       " (520014689628841516, 1352, 1354),\n",
       " (520014689628841516, 1365, 1367),\n",
       " (520014689628841516, 2084, 2086)]"
      ]
     },
     "execution_count": 22,
     "metadata": {},
     "output_type": "execute_result"
    }
   ],
   "source": [
    "# Matching positions\n",
    "character_matches"
   ]
  },
  {
   "cell_type": "code",
   "execution_count": 23,
   "id": "419327a5-e4a0-419b-a101-054b1b842662",
   "metadata": {},
   "outputs": [
    {
     "name": "stdout",
     "output_type": "stream",
     "text": [
      "Batman\n",
      "Batman\n",
      "Harry Potter\n",
      "Harry Potter\n",
      "Tony Stark\n"
     ]
    }
   ],
   "source": [
    "# Matched items\n",
    "for match_id, start, end in character_matches:\n",
    "    span = fictional_char_doc[start:end]\n",
    "    print(span.text)"
   ]
  },
  {
   "cell_type": "markdown",
   "id": "ea336467-46d4-4a92-ae9f-2ca9215e1596",
   "metadata": {},
   "source": [
    "*******************************************************************************************************\n",
    "Another useful feature of **PhraseMatcher** is that while intializing the matcher, you have an option to use the parameter **attr**, using which you can set rules for how the matching has to happen.\n",
    "\n",
    "How to use attr?\n",
    "\n",
    "Setting a attr to match on will change the token attributes that will be compared to determine a match. For example, if you use attr='LOWER', then case-insensitive matching will happen."
   ]
  },
  {
   "cell_type": "code",
   "execution_count": 24,
   "id": "4bef19e8-abcd-4645-b8fe-41804c4dc128",
   "metadata": {},
   "outputs": [
    {
     "name": "stdout",
     "output_type": "stream",
     "text": [
      "new york\n"
     ]
    }
   ],
   "source": [
    "# Using the attr parameter as 'LOWER'\n",
    "case_insensitive_matcher = PhraseMatcher(nlp.vocab, attr=\"LOWER\")\n",
    "\n",
    "# Creating doc &amp; pattern\n",
    "my_doc=nlp('I wish to visit new york city')\n",
    "terms=['New York']\n",
    "pattern=[nlp(term) for term in terms]\n",
    "\n",
    "# adding pattern to the matcher\n",
    "case_insensitive_matcher.add(\"matcher\",None,*pattern)\n",
    "\n",
    "# applying matcher to the doc\n",
    "my_matches=case_insensitive_matcher(my_doc)\n",
    "\n",
    "for match_id,start,end in my_matches:\n",
    "  span=my_doc[start:end]\n",
    "  print(span.text)"
   ]
  },
  {
   "cell_type": "code",
   "execution_count": 25,
   "id": "08c831c1-4f82-4443-9704-88515ae84ddc",
   "metadata": {},
   "outputs": [],
   "source": [
    "my_doc = nlp('From 8 am , Mr.X will be speaking on your favorite chanel 191.1. Afterward there shall be an exclusive interview with actor Vijay on channel 194.1 . Hope you are having a great day. Call us on 666666')"
   ]
  },
  {
   "cell_type": "code",
   "execution_count": 26,
   "id": "8d2048a3-8d82-4790-847d-b7a5dab684b0",
   "metadata": {},
   "outputs": [],
   "source": [
    "pattern=nlp('154.6')"
   ]
  },
  {
   "cell_type": "code",
   "execution_count": 27,
   "id": "5fb889ed-84ac-417b-9d00-dfcf24af7617",
   "metadata": {},
   "outputs": [],
   "source": [
    "# Initializing the matcher and adding pattern\n",
    "\n",
    "pincode_matcher= PhraseMatcher(nlp.vocab,attr=\"SHAPE\")\n",
    "pincode_matcher.add(\"pincode_matching\", None, pattern)"
   ]
  },
  {
   "cell_type": "code",
   "execution_count": 28,
   "id": "1297f654-1749-4993-a92e-4f67580551cc",
   "metadata": {},
   "outputs": [
    {
     "name": "stdout",
     "output_type": "stream",
     "text": [
      "191.1\n",
      "194.1\n"
     ]
    }
   ],
   "source": [
    "# Applying matcher on doc\n",
    "matches = pincode_matcher(my_doc)\n",
    "\n",
    "# Printing the matched phrases\n",
    "for match_id, start, end in matches:\n",
    "  span = my_doc[start:end]\n",
    "  print(span.text)"
   ]
  },
  {
   "cell_type": "code",
   "execution_count": null,
   "id": "b2f99e22-8384-46cd-a80f-9e8fc608c146",
   "metadata": {},
   "outputs": [],
   "source": []
  }
 ],
 "metadata": {
  "kernelspec": {
   "display_name": "Python 3 (ipykernel)",
   "language": "python",
   "name": "python3"
  },
  "language_info": {
   "codemirror_mode": {
    "name": "ipython",
    "version": 3
   },
   "file_extension": ".py",
   "mimetype": "text/x-python",
   "name": "python",
   "nbconvert_exporter": "python",
   "pygments_lexer": "ipython3",
   "version": "3.7.10"
  }
 },
 "nbformat": 4,
 "nbformat_minor": 5
}
