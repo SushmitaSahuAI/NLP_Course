{
 "cells": [
  {
   "cell_type": "markdown",
   "id": "1eaa2b0d-7c0f-4c61-a636-9116d3df7c2a",
   "metadata": {},
   "source": [
    "# Text Classification using Bag of Words\n"
   ]
  },
  {
   "cell_type": "markdown",
   "id": "fc140db7-0b83-455b-ba9f-fd54047b1a7b",
   "metadata": {},
   "source": [
    "## Step1 : Import the Data"
   ]
  },
  {
   "cell_type": "code",
   "execution_count": 1,
   "id": "87b17bc2-ba8c-4e48-90aa-7dab3cbdd22a",
   "metadata": {},
   "outputs": [],
   "source": [
    "import pandas as pd\n",
    "dataset = pd.read_csv('spam.csv', encoding='ISO-8859-1');"
   ]
  },
  {
   "cell_type": "markdown",
   "id": "9a9a2e0d-7dff-4f86-af92-d33a135b86b0",
   "metadata": {},
   "source": [
    "## Step 2: Preprocessing the data\n",
    "1. Remove none alphabetic characters\n",
    "2. Make the word lower case\n",
    "3. Remove the stop words\n",
    "4. Stemming\n",
    "5. Spell correction"
   ]
  },
  {
   "cell_type": "code",
   "execution_count": null,
   "id": "55785a95-b653-499c-8da7-94e28dea35d1",
   "metadata": {},
   "outputs": [],
   "source": [
    "import re\n",
    "import nltk\n",
    "\n",
    "nltk.download('punkt')\n",
    "from nltk.tokenize import word_tokenize as wt \n",
    "\n",
    "nltk.download('stopwords')\n",
    "from nltk.corpus import stopwords\n",
    "\n",
    "from nltk.stem.porter import PorterStemmer\n",
    "stemmer = PorterStemmer()\n",
    "\n",
    "#spell correction\n",
    "from autocorrect import spell\n",
    "\n",
    "data = []\n",
    "\n",
    "for i in range(dataset.shape[0]):\n",
    "    sms = dataset.iloc[i, 1]\n",
    "\n",
    "    # remove non alphabatic characters\n",
    "    sms = re.sub('[^A-Za-z]', ' ', sms)\n",
    "\n",
    "    # make words lowercase, because Go and go will be considered as two words\n",
    "    sms = sms.lower()\n",
    "\n",
    "    # tokenising\n",
    "    tokenized_sms = wt(sms)\n",
    "\n",
    "    # remove stop words and stemming\n",
    " \n",
    "    sms_processed = []\n",
    "    for word in tokenized_sms:\n",
    "        if word not in set(stopwords.words('english')):\n",
    "            sms_processed.append(spell(stemmer.stem(word)))\n",
    "\n",
    "    sms_text = \" \".join(sms_processed)\n",
    "    data.append(sms_text)\n"
   ]
  },
  {
   "cell_type": "markdown",
   "id": "68171d12-96a9-4b06-955e-19efd3f8cd43",
   "metadata": {},
   "source": [
    "## Step 3: Create the model and train"
   ]
  },
  {
   "cell_type": "code",
   "execution_count": 5,
   "id": "4fbfd3fa-b195-4ee2-b978-98bf6ec2db94",
   "metadata": {},
   "outputs": [
    {
     "data": {
      "text/plain": [
       "GaussianNB()"
      ]
     },
     "execution_count": 5,
     "metadata": {},
     "output_type": "execute_result"
    }
   ],
   "source": [
    "# creating the feature matrix \n",
    "from sklearn.feature_extraction.text import CountVectorizer\n",
    "matrix = CountVectorizer(max_features=1000)\n",
    "X = matrix.fit_transform(data).toarray()\n",
    "y = dataset.iloc[:, 0]\n",
    "\n",
    "# split train and test data\n",
    "from sklearn.model_selection import train_test_split\n",
    "X_train, X_test, y_train, y_test = train_test_split(X,y)\n",
    "\n",
    "# Naive Bayes \n",
    "from sklearn.naive_bayes import GaussianNB\n",
    "classifier = GaussianNB()\n",
    "classifier.fit(X_train, y_train)"
   ]
  },
  {
   "cell_type": "code",
   "execution_count": 6,
   "id": "e81daa8e-bd3d-41d0-963f-deed229541ec",
   "metadata": {},
   "outputs": [
    {
     "data": {
      "text/plain": [
       "0.7875089734386217"
      ]
     },
     "execution_count": 6,
     "metadata": {},
     "output_type": "execute_result"
    }
   ],
   "source": [
    "# predict class\n",
    "y_pred = classifier.predict(X_test)\n",
    "\n",
    "# Confusion matrix\n",
    "from sklearn.metrics import confusion_matrix, classification_report, accuracy_score\n",
    "cm = confusion_matrix(y_test, y_pred)\n",
    "cr = classification_report(y_test, y_pred)\n",
    "\n",
    "accuracy = accuracy_score(y_test, y_pred)\n",
    "accuracy"
   ]
  },
  {
   "cell_type": "code",
   "execution_count": null,
   "id": "be99b039-e681-44c7-aeec-7e8769a56b64",
   "metadata": {},
   "outputs": [],
   "source": []
  }
 ],
 "metadata": {
  "kernelspec": {
   "display_name": "Python 3 (ipykernel)",
   "language": "python",
   "name": "python3"
  },
  "language_info": {
   "codemirror_mode": {
    "name": "ipython",
    "version": 3
   },
   "file_extension": ".py",
   "mimetype": "text/x-python",
   "name": "python",
   "nbconvert_exporter": "python",
   "pygments_lexer": "ipython3",
   "version": "3.7.10"
  }
 },
 "nbformat": 4,
 "nbformat_minor": 5
}
