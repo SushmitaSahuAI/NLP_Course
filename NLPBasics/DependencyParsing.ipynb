{
 "cells": [
  {
   "cell_type": "markdown",
   "id": "498f3f7e-2097-4701-bedc-ee3176b489f8",
   "metadata": {},
   "source": [
    "# Dependency Parsing\n",
    "Dependency Parsing (DP) refers to examining the dependencies between the words of a sentence to analyze its grammatical structure. A sentence is broken into several components. The concept is that there is a direct link between every linguistic unit of a sentence. These links are termed dependencies. \n",
    "<img src ='https://www.upgrad.com/blog/wp-content/uploads/2021/03/D1.jpg'>"
   ]
  },
  {
   "cell_type": "markdown",
   "id": "5a8dc27f-358a-426e-b9af-84687c664ef8",
   "metadata": {},
   "source": [
    "# Stanford parser: \n",
    "This is a natural language parser implemented on Java. You need the Stanford CoreNLP parser to perform dependency parsing. The parser includes several languages including English, Chinese, German, and Arabic. "
   ]
  },
  {
   "cell_type": "code",
   "execution_count": 1,
   "id": "dd9971c5-8bb1-4748-86c3-1493bc9628b8",
   "metadata": {},
   "outputs": [
    {
     "name": "stdout",
     "output_type": "stream",
     "text": [
      "--2021-12-06 05:29:10--  https://nlp.stanford.edu/software/stanford-corenlp-4.2.2.zip\n",
      "Resolving nlp.stanford.edu (nlp.stanford.edu)... 171.64.67.140\n",
      "Connecting to nlp.stanford.edu (nlp.stanford.edu)|171.64.67.140|:443... connected.\n",
      "HTTP request sent, awaiting response... 302 FOUND\n",
      "Location: https://downloads.cs.stanford.edu/nlp/software/stanford-corenlp-4.2.2.zip [following]\n",
      "--2021-12-06 05:29:10--  https://downloads.cs.stanford.edu/nlp/software/stanford-corenlp-4.2.2.zip\n",
      "Resolving downloads.cs.stanford.edu (downloads.cs.stanford.edu)... 171.64.64.22\n",
      "Connecting to downloads.cs.stanford.edu (downloads.cs.stanford.edu)|171.64.64.22|:443... connected.\n",
      "HTTP request sent, awaiting response... 200 OK\n",
      "Length: 504278711 (481M) [application/zip]\n",
      "Saving to: ‘stanford-corenlp-4.2.2.zip’\n",
      "\n",
      "stanford-corenlp-4. 100%[===================>] 480.92M  5.10MB/s    in 91s     \n",
      "\n",
      "2021-12-06 05:30:42 (5.26 MB/s) - ‘stanford-corenlp-4.2.2.zip’ saved [504278711/504278711]\n",
      "\n",
      "--2021-12-06 05:30:43--  https://nlp.stanford.edu/software/stanford-corenlp-4.2.2-models-english.jar\n",
      "Resolving nlp.stanford.edu (nlp.stanford.edu)... 171.64.67.140\n",
      "Connecting to nlp.stanford.edu (nlp.stanford.edu)|171.64.67.140|:443... connected.\n",
      "HTTP request sent, awaiting response... 302 FOUND\n",
      "Location: https://downloads.cs.stanford.edu/nlp/software/stanford-corenlp-4.2.2-models-english.jar [following]\n",
      "--2021-12-06 05:30:43--  https://downloads.cs.stanford.edu/nlp/software/stanford-corenlp-4.2.2-models-english.jar\n",
      "Resolving downloads.cs.stanford.edu (downloads.cs.stanford.edu)... 171.64.64.22\n",
      "Connecting to downloads.cs.stanford.edu (downloads.cs.stanford.edu)|171.64.64.22|:443... connected.\n",
      "HTTP request sent, awaiting response... 200 OK\n",
      "Length: 444735210 (424M) [application/java-archive]\n",
      "Saving to: ‘stanford-corenlp-4.2.2-models-english.jar’\n",
      "\n",
      "stanford-corenlp-4. 100%[===================>] 424.13M  5.06MB/s    in 81s     \n",
      "\n",
      "2021-12-06 05:32:04 (5.23 MB/s) - ‘stanford-corenlp-4.2.2-models-english.jar’ saved [444735210/444735210]\n",
      "\n",
      "unzip:  cannot find or open /content/stanford-corenlp-4.2.2.zip, /content/stanford-corenlp-4.2.2.zip.zip or /content/stanford-corenlp-4.2.2.zip.ZIP.\n"
     ]
    }
   ],
   "source": [
    "!wget https://nlp.stanford.edu/software/stanford-corenlp-4.2.2.zip\n",
    "!wget https://nlp.stanford.edu/software/stanford-corenlp-4.2.2-models-english.jar\n",
    "!unzip /content/stanford-corenlp-4.2.2.zip"
   ]
  },
  {
   "cell_type": "code",
   "execution_count": 1,
   "id": "39e579db-b230-48bc-b08b-17dc45160a0b",
   "metadata": {},
   "outputs": [],
   "source": [
    "from nltk.parse.stanford import StanfordDependencyParser"
   ]
  },
  {
   "cell_type": "code",
   "execution_count": 4,
   "id": "7485e71c-5ae9-4b0f-889e-d762d44ee548",
   "metadata": {},
   "outputs": [
    {
     "name": "stdout",
     "output_type": "stream",
     "text": [
      "Head            | Head POS   | Relation   | Dependent       | Dependent POS\n",
      "---------------------------------------------------------------------------\n",
      "charge          | VBP        | nsubj      | universities    | NNS       \n",
      "universities    | NNS        | compound   | Deemed          | NNP       \n",
      "charge          | VBP        | obj        | fees            | NNS       \n",
      "fees            | NNS        | amod       | huge            | JJ        \n"
     ]
    }
   ],
   "source": [
    "from nltk.parse.stanford import StanfordDependencyParser\n",
    "\n",
    "# Path to CoreNLP jar unzipped\n",
    "jar_path = './stanford-corenlp-4.2.2/stanford-corenlp-4.2.2.jar'\n",
    "\n",
    "# Path to CoreNLP model jar\n",
    "models_jar_path = 'stanford-corenlp-4.2.2-models-english.jar'\n",
    "\n",
    "sentence = 'Deemed universities charge huge fees'\n",
    "\n",
    "# Initialize StanfordDependency Parser from the path\n",
    "parser = StanfordDependencyParser(path_to_jar = jar_path, path_to_models_jar = models_jar_path)\n",
    "\n",
    "# Parse the sentence\n",
    "result = parser.raw_parse(sentence)\n",
    "dependency = result.__next__()\n",
    "\n",
    "\n",
    "print (\"{:<15} | {:<10} | {:<10} | {:<15} | {:<10}\".format('Head', 'Head POS','Relation','Dependent', 'Dependent POS'))\n",
    "print (\"-\" * 75)\n",
    "  \n",
    "# Use dependency.triples() to extract the dependency triples in the form\n",
    "# ((head word, head POS), relation, (dependent word, dependent POS))  \n",
    "for dep in list(dependency.triples()):\n",
    "  print (\"{:<15} | {:<10} | {:<10} | {:<15} | {:<10}\"\n",
    "         .format(str(dep[0][0]),str(dep[0][1]), str(dep[1]), str(dep[2][0]),str(dep[2][1])))\n"
   ]
  },
  {
   "cell_type": "markdown",
   "id": "4174eeb6-6e41-4b58-a8ba-0c7e635a5b04",
   "metadata": {},
   "source": [
    "## Visualize using NetworkX"
   ]
  },
  {
   "cell_type": "code",
   "execution_count": 5,
   "id": "3f68a2b8-3d64-4c4e-b81e-91e68d56f6e5",
   "metadata": {},
   "outputs": [
    {
     "data": {
      "image/png": "[encoded data removed]",
      "text/plain": [
       "<Figure size 432x288 with 1 Axes>"
      ]
     },
     "metadata": {},
     "output_type": "display_data"
    }
   ],
   "source": [
    "# importing networkx\n",
    "import networkx as nx\n",
    "import matplotlib.pyplot as plt\n",
    "# Using reverse() to reverse the direction of edges as nx_graph() returns inverted edges\n",
    "G = dependency.nx_graph().reverse()\n",
    "# nx_graph() returns numeric node labels starting from 1\n",
    "# Create a dictionary to map numeric nodes and words in the sentence\n",
    "words = sentence.split(\" \")\n",
    "labels = {index + 1: words[index] for index in range(len(words))}\n",
    "nx.draw(G, with_labels=True, labels=labels, node_size=2500, node_color='#B5EAD7', font_size=10)"
   ]
  },
  {
   "cell_type": "markdown",
   "id": "4473216d-c0e9-4507-bc19-9a7450e09a67",
   "metadata": {},
   "source": [
    "## Using Stanza\n",
    "Stanford NLP Group have also developed Stanza. It provides a Neural Network NLP Pipeline that can be customized and a Python wrapper over Stanford CoreNLP package, making it easier to use the CoreNLP features without downloading the jar files."
   ]
  },
  {
   "cell_type": "code",
   "execution_count": 8,
   "id": "4a51dfcd-448e-4a03-9a49-504a599da8de",
   "metadata": {},
   "outputs": [
    {
     "name": "stdout",
     "output_type": "stream",
     "text": [
      "Collecting stanza\n",
      "  Downloading stanza-1.3.0-py3-none-any.whl (432 kB)\n",
      "\u001b[K     |████████████████████████████████| 432 kB 28.1 MB/s eta 0:00:01\n",
      "\u001b[?25hRequirement already satisfied: emoji in /opt/conda/lib/python3.7/site-packages (from stanza) (1.6.1)\n",
      "Requirement already satisfied: tqdm in /opt/conda/lib/python3.7/site-packages (from stanza) (4.62.3)\n",
      "Requirement already satisfied: numpy in /opt/conda/lib/python3.7/site-packages (from stanza) (1.19.5)\n",
      "Requirement already satisfied: torch>=1.3.0 in /opt/conda/lib/python3.7/site-packages (from stanza) (1.9.1)\n",
      "Requirement already satisfied: protobuf in /opt/conda/lib/python3.7/site-packages (from stanza) (3.19.0)\n",
      "Requirement already satisfied: six in /opt/conda/lib/python3.7/site-packages (from stanza) (1.16.0)\n",
      "Requirement already satisfied: requests in /opt/conda/lib/python3.7/site-packages (from stanza) (2.25.1)\n",
      "Requirement already satisfied: typing-extensions in /opt/conda/lib/python3.7/site-packages (from torch>=1.3.0->stanza) (3.10.0.2)\n",
      "Requirement already satisfied: certifi>=2017.4.17 in /opt/conda/lib/python3.7/site-packages (from requests->stanza) (2021.10.8)\n",
      "Requirement already satisfied: idna<3,>=2.5 in /opt/conda/lib/python3.7/site-packages (from requests->stanza) (2.10)\n",
      "Requirement already satisfied: chardet<5,>=3.0.2 in /opt/conda/lib/python3.7/site-packages (from requests->stanza) (4.0.0)\n",
      "Requirement already satisfied: urllib3<1.27,>=1.21.1 in /opt/conda/lib/python3.7/site-packages (from requests->stanza) (1.26.6)\n",
      "Installing collected packages: stanza\n",
      "Successfully installed stanza-1.3.0\n",
      "\u001b[33mWARNING: Running pip as the 'root' user can result in broken permissions and conflicting behaviour with the system package manager. It is recommended to use a virtual environment instead: https://pip.pypa.io/warnings/venv\u001b[0m\n"
     ]
    }
   ],
   "source": [
    "!pip install stanza"
   ]
  },
  {
   "cell_type": "markdown",
   "id": "9a64ac08-50f4-4a71-9232-6edb51520ff3",
   "metadata": {},
   "source": [
    "******************************************************************\n",
    "The next step is to import stanza and download the required language model."
   ]
  },
  {
   "cell_type": "code",
   "execution_count": 9,
   "id": "56e562ec-23a3-4f50-b654-14e0ba4f4e08",
   "metadata": {},
   "outputs": [
    {
     "data": {
      "application/vnd.jupyter.widget-view+json": {
       "model_id": "df23756bf6ad4814b094b56053cea499",
       "version_major": 2,
       "version_minor": 0
      },
      "text/plain": [
       "Downloading https://raw.githubusercontent.com/stanfordnlp/stanza-resources/main/resources_1.3.0.json:   0%|   …"
      ]
     },
     "metadata": {},
     "output_type": "display_data"
    },
    {
     "data": {
      "application/vnd.jupyter.widget-view+json": {
       "model_id": "53c03efe90c0482396482e4e0c8804ed",
       "version_major": 2,
       "version_minor": 0
      },
      "text/plain": [
       "Downloading https://huggingface.co/stanfordnlp/stanza-en/resolve/v1.3.0/models/default.zip:   0%|          | 0…"
      ]
     },
     "metadata": {},
     "output_type": "display_data"
    }
   ],
   "source": [
    "import stanza\n",
    "stanza.download('en')"
   ]
  },
  {
   "cell_type": "code",
   "execution_count": 10,
   "id": "bfb14c0b-4d64-4ea1-b4dc-1467a1e31433",
   "metadata": {},
   "outputs": [
    {
     "name": "stderr",
     "output_type": "stream",
     "text": [
      "/opt/conda/lib/python3.7/site-packages/torch/cuda/__init__.py:106: UserWarning: \n",
      "A100-SXM4-40GB with CUDA capability sm_80 is not compatible with the current PyTorch installation.\n",
      "The current PyTorch install supports CUDA capabilities sm_37 sm_60 sm_70 sm_75 compute_70 compute_75.\n",
      "If you want to use the A100-SXM4-40GB GPU with PyTorch, please check the instructions at https://pytorch.org/get-started/locally/\n",
      "\n",
      "  warnings.warn(incompatible_device_warn.format(device_name, capability, \" \".join(arch_list), device_name))\n"
     ]
    }
   ],
   "source": [
    "nlp = stanza.Pipeline('en',\n",
    "                     processors = 'tokenize,mwt,pos,lemma,depparse')"
   ]
  },
  {
   "cell_type": "code",
   "execution_count": 11,
   "id": "b072285c-6fe4-4463-a905-99c3d4ce3312",
   "metadata": {},
   "outputs": [],
   "source": [
    "doc = nlp(sentence)"
   ]
  },
  {
   "cell_type": "code",
   "execution_count": 12,
   "id": "a1041749-6264-489c-861f-3b04a7e49527",
   "metadata": {},
   "outputs": [
    {
     "data": {
      "text/plain": [
       "[[\n",
       "   {\n",
       "     \"id\": 1,\n",
       "     \"text\": \"Deemed\",\n",
       "     \"lemma\": \"Deem\",\n",
       "     \"upos\": \"VERB\",\n",
       "     \"xpos\": \"VBN\",\n",
       "     \"feats\": \"Tense=Past|VerbForm=Part\",\n",
       "     \"head\": 2,\n",
       "     \"deprel\": \"amod\",\n",
       "     \"start_char\": 0,\n",
       "     \"end_char\": 6\n",
       "   },\n",
       "   {\n",
       "     \"id\": 2,\n",
       "     \"text\": \"universities\",\n",
       "     \"lemma\": \"university\",\n",
       "     \"upos\": \"NOUN\",\n",
       "     \"xpos\": \"NNS\",\n",
       "     \"feats\": \"Number=Plur\",\n",
       "     \"head\": 3,\n",
       "     \"deprel\": \"nsubj\",\n",
       "     \"start_char\": 7,\n",
       "     \"end_char\": 19\n",
       "   },\n",
       "   {\n",
       "     \"id\": 3,\n",
       "     \"text\": \"charge\",\n",
       "     \"lemma\": \"charge\",\n",
       "     \"upos\": \"VERB\",\n",
       "     \"xpos\": \"VBP\",\n",
       "     \"feats\": \"Mood=Ind|Tense=Pres|VerbForm=Fin\",\n",
       "     \"head\": 0,\n",
       "     \"deprel\": \"root\",\n",
       "     \"start_char\": 20,\n",
       "     \"end_char\": 26\n",
       "   },\n",
       "   {\n",
       "     \"id\": 4,\n",
       "     \"text\": \"huge\",\n",
       "     \"lemma\": \"huge\",\n",
       "     \"upos\": \"ADJ\",\n",
       "     \"xpos\": \"JJ\",\n",
       "     \"feats\": \"Degree=Pos\",\n",
       "     \"head\": 5,\n",
       "     \"deprel\": \"amod\",\n",
       "     \"start_char\": 27,\n",
       "     \"end_char\": 31\n",
       "   },\n",
       "   {\n",
       "     \"id\": 5,\n",
       "     \"text\": \"fees\",\n",
       "     \"lemma\": \"fee\",\n",
       "     \"upos\": \"NOUN\",\n",
       "     \"xpos\": \"NNS\",\n",
       "     \"feats\": \"Number=Plur\",\n",
       "     \"head\": 3,\n",
       "     \"deprel\": \"obj\",\n",
       "     \"start_char\": 32,\n",
       "     \"end_char\": 36\n",
       "   }\n",
       " ]]"
      ]
     },
     "execution_count": 12,
     "metadata": {},
     "output_type": "execute_result"
    }
   ],
   "source": [
    "doc.sentences"
   ]
  },
  {
   "cell_type": "code",
   "execution_count": 13,
   "id": "069054b7-eceb-47a7-bd7b-95e4ffe0340e",
   "metadata": {},
   "outputs": [
    {
     "data": {
      "application/vnd.jupyter.widget-view+json": {
       "model_id": "82e5636e083b4451a02f4d3cc1b8597d",
       "version_major": 2,
       "version_minor": 0
      },
      "text/plain": [
       "Downloading https://raw.githubusercontent.com/stanfordnlp/stanza-resources/main/resources_1.3.0.json:   0%|   …"
      ]
     },
     "metadata": {},
     "output_type": "display_data"
    },
    {
     "name": "stdout",
     "output_type": "stream",
     "text": [
      "('Deemed', 2, 'amod')\n",
      "('universities', 3, 'nsubj')\n",
      "('charge', 0, 'root')\n",
      "('huge', 5, 'amod')\n",
      "('fees', 3, 'obj')\n",
      "Token           | Relation   | Head            \n",
      "--------------------------------------------------\n",
      "Deemed          | amod       | universities    \n",
      "universities    | nsubj      | charge          \n",
      "charge          | root       | ROOT            \n",
      "huge            | amod       | fees            \n",
      "fees            | obj        | charge          \n"
     ]
    }
   ],
   "source": [
    "import stanza\n",
    "\n",
    "# Download the language model\n",
    "stanza.download('en')\n",
    "\n",
    "sentence = 'Deemed universities charge huge fees'\n",
    "\n",
    "# Build a Neural Pipeline\n",
    "nlp = stanza.Pipeline('en', processors = \"tokenize,mwt,pos,lemma,depparse\") \n",
    "\n",
    "# Pass the sentence through the pipeline\n",
    "doc = nlp(sentence)\n",
    "\n",
    "# Print the dependencies of the first sentence in the doc object\n",
    "# Format - (Token, Index of head, Nature of dependency)\n",
    "# Index starts from 1, 0 is reserved for ROOT\n",
    "doc.sentences[0].print_dependencies()\n",
    "\n",
    "\n",
    "print (\"{:<15} | {:<10} | {:<15} \".format('Token', 'Relation', 'Head'))\n",
    "print (\"-\" * 50)\n",
    "  \n",
    "# Convert sentence object to dictionary  \n",
    "sent_dict = doc.sentences[0].to_dict()\n",
    "\n",
    "# iterate to print the token, relation and head\n",
    "for word in sent_dict:\n",
    "  print (\"{:<15} | {:<10} | {:<15} \"\n",
    "         .format(str(word['text']),str(word['deprel']), str(sent_dict[word['head']-1]['text'] if word['head'] > 0 else 'ROOT')))\n"
   ]
  },
  {
   "cell_type": "markdown",
   "id": "e27ed023-8115-4fcc-a908-792ca17553db",
   "metadata": {},
   "source": [
    "# Constituency Parsing\n",
    "Constituency Parsing is based on context-free grammars. Here, the parse tree includes sentences broken into sub-phrases, each belonging to a grammar category. Every linguistic unit or word in a sentence acts as a terminal node, which has its parent node and a part-of-speech tag.\n",
    "\n",
    "<img src = \"https://www.upgrad.com/blog/wp-content/uploads/2021/03/D2.jpg\">"
   ]
  },
  {
   "cell_type": "markdown",
   "id": "73c4602d-4bb2-4e98-a456-65b2c2cc1520",
   "metadata": {},
   "source": [
    "# Dependency Parsing vs Constituency Parsing\n",
    "Constituency parsing can also be implemented using the Stanford parser. It essentially parses a given sentence as per the constituency parser and subsequently converts the constituency parse tree into a dependency tree. \n",
    "\n",
    "If your goal is to break a sentence into sub-phrases, you should implement constituency parsing. However, if you want to explore the dependencies between the words in a sentence, you should use dependency parsing. "
   ]
  },
  {
   "cell_type": "code",
   "execution_count": 15,
   "id": "fb034147-e53c-4ab2-a723-bf6ebeb19166",
   "metadata": {},
   "outputs": [],
   "source": [
    "import nltk\n",
    "grammar1 = nltk.CFG.fromstring(\"\"\"\n",
    "  S -> NP VP\n",
    "  VP -> V NP | V NP PP\n",
    "  PP -> P NP\n",
    "  V -> \"saw\" | \"ate\" | \"walked\"\n",
    "  NP -> \"John\" | \"Mary\" | \"Bob\" | Det N | Det N PP\n",
    "  Det -> \"a\" | \"an\" | \"the\" | \"my\"\n",
    "  N -> \"man\" | \"dog\" | \"cat\" | \"telescope\" | \"park\"\n",
    "  P -> \"in\" | \"on\" | \"by\" | \"with\"\n",
    "  \"\"\")\n"
   ]
  },
  {
   "cell_type": "code",
   "execution_count": 16,
   "id": "f6a5bcaa-2b2d-4b32-b2b4-a8e95269a4ff",
   "metadata": {},
   "outputs": [
    {
     "name": "stdout",
     "output_type": "stream",
     "text": [
      "(S (NP Mary) (VP (V saw) (NP Bob)))\n"
     ]
    }
   ],
   "source": [
    "sent = \"Mary saw Bob\".split()\n",
    "rd_parser = nltk.RecursiveDescentParser(grammar1)\n",
    "for tree in rd_parser.parse(sent):\n",
    "    print(tree)"
   ]
  },
  {
   "cell_type": "code",
   "execution_count": null,
   "id": "e06981d8-7b70-46b9-b53d-bf276a26b921",
   "metadata": {},
   "outputs": [],
   "source": []
  }
 ],
 "metadata": {
  "kernelspec": {
   "display_name": "Python 3 (ipykernel)",
   "language": "python",
   "name": "python3"
  },
  "language_info": {
   "codemirror_mode": {
    "name": "ipython",
    "version": 3
   },
   "file_extension": ".py",
   "mimetype": "text/x-python",
   "name": "python",
   "nbconvert_exporter": "python",
   "pygments_lexer": "ipython3",
   "version": "3.7.10"
  }
 },
 "nbformat": 4,
 "nbformat_minor": 5
}
