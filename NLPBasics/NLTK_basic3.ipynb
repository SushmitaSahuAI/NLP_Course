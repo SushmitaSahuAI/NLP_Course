{
 "cells": [
  {
   "cell_type": "code",
   "execution_count": 1,
   "metadata": {},
   "outputs": [],
   "source": [
    "import nltk\n",
    "#nltk.download()\n",
    "##### python -m nltk.downloader all\n",
    "##### python -m nltk.downloader -d /usr/local/share/nltk_data all\n"
   ]
  },
  {
   "cell_type": "code",
   "execution_count": 2,
   "metadata": {},
   "outputs": [
    {
     "data": {
      "text/plain": [
       "'3.2.4'"
      ]
     },
     "execution_count": 2,
     "metadata": {},
     "output_type": "execute_result"
    }
   ],
   "source": [
    "nltk.__version__"
   ]
  },
  {
   "cell_type": "markdown",
   "metadata": {},
   "source": [
    "## WordNet\n",
    "WordNet is the lexical database i.e. dictionary for the English language, specifically designed for natural language processing.\n",
    "Synset is a special kind of a simple interface that is present in NLTK to look up words in WordNet. Synset instances are the groupings of synonymous words that express the same concept. Some of the words have only one Synset and some have several.\n"
   ]
  },
  {
   "cell_type": "markdown",
   "metadata": {},
   "source": [
    "# Find synonyms and antonyms"
   ]
  },
  {
   "cell_type": "code",
   "execution_count": 3,
   "metadata": {},
   "outputs": [
    {
     "name": "stdout",
     "output_type": "stream",
     "text": [
      "Synonyms of happy ..  [Synset('happy.a.01'), Synset('felicitous.s.02'), Synset('glad.s.02'), Synset('happy.s.04')]\n",
      "Definition: enjoying or showing or marked by joy or pleasure\n",
      "Example: ['a happy smile', 'spent many happy days on the beach', 'a happy marriage']\n",
      "Lemma: [Lemma('happy.a.01.happy')]\n"
     ]
    }
   ],
   "source": [
    "#nltk.download('wordnet')\n",
    "from nltk.corpus import wordnet\n",
    "syn=wordnet.synsets('happy')\n",
    "print (\"Synonyms of happy .. \", syn)\n",
    "print (\"Definition:\",syn[0].definition())\n",
    "print (\"Example:\",syn[0].examples())\n",
    "print (\"Lemma:\",syn[0].lemmas())"
   ]
  },
  {
   "cell_type": "code",
   "execution_count": 15,
   "metadata": {},
   "outputs": [
    {
     "name": "stdout",
     "output_type": "stream",
     "text": [
      "Synonyms of bike ..  [Synset('motorcycle.n.01'), Synset('bicycle.n.01'), Synset('bicycle.v.01')]\n",
      "Definition: a motor vehicle with two wheels and a strong frame\n",
      "Lemma: [Lemma('motorcycle.n.01.motorcycle'), Lemma('motorcycle.n.01.bike')]\n"
     ]
    }
   ],
   "source": [
    "syn=wordnet.synsets('bike')\n",
    "print (\"Synonyms of bike .. \", syn)\n",
    "print (\"Definition:\",syn[0].definition())\n",
    "print (\"Lemma:\",syn[0].lemmas())"
   ]
  },
  {
   "cell_type": "markdown",
   "metadata": {},
   "source": [
    "<img src = \"./images/synset.PNG\">"
   ]
  },
  {
   "cell_type": "code",
   "execution_count": 4,
   "metadata": {},
   "outputs": [
    {
     "name": "stdout",
     "output_type": "stream",
     "text": [
      "[Synset('dog.n.01'), Synset('frump.n.01'), Synset('dog.n.03'), Synset('cad.n.01'), Synset('frank.n.02'), Synset('pawl.n.01'), Synset('andiron.n.01'), Synset('chase.v.01')]\n",
      "[Synset('chase.v.01')]\n"
     ]
    }
   ],
   "source": [
    "print (wordnet.synsets('dog'))\n",
    "print (wordnet.synsets('dog', pos=wordnet.VERB)) # pos argument which lets you constrain the part of speech of the word"
   ]
  },
  {
   "cell_type": "markdown",
   "metadata": {},
   "source": [
    "Synset results in form : lemma.pos.number\n",
    "* lemma: is the word’s morphological stem\n",
    "* pos: is one of the module attributes ADJ,  ADV, NOUN or VERB\n",
    "* number: is the sense number, counting from 0"
   ]
  },
  {
   "cell_type": "markdown",
   "metadata": {},
   "source": [
    "****************************************************************************************\n",
    "\n",
    "The WordNet corpus reader gives access to the Open Multilingual WordNet, using ISO-639 language codes."
   ]
  },
  {
   "cell_type": "code",
   "execution_count": 5,
   "metadata": {},
   "outputs": [
    {
     "data": {
      "text/plain": [
       "['als',\n",
       " 'arb',\n",
       " 'bul',\n",
       " 'cat',\n",
       " 'cmn',\n",
       " 'dan',\n",
       " 'ell',\n",
       " 'eng',\n",
       " 'eus',\n",
       " 'fas',\n",
       " 'fin',\n",
       " 'fra',\n",
       " 'glg',\n",
       " 'heb',\n",
       " 'hrv',\n",
       " 'ind',\n",
       " 'ita',\n",
       " 'jpn',\n",
       " 'nld',\n",
       " 'nno',\n",
       " 'nob',\n",
       " 'pol',\n",
       " 'por',\n",
       " 'qcn',\n",
       " 'slv',\n",
       " 'spa',\n",
       " 'swe',\n",
       " 'tha',\n",
       " 'zsm']"
      ]
     },
     "execution_count": 5,
     "metadata": {},
     "output_type": "execute_result"
    }
   ],
   "source": [
    "sorted(wordnet.langs())"
   ]
  },
  {
   "cell_type": "code",
   "execution_count": 8,
   "metadata": {},
   "outputs": [
    {
     "data": {
      "text/plain": [
       "[Synset('dog.n.01'), Synset('spy.n.01')]"
      ]
     },
     "execution_count": 8,
     "metadata": {},
     "output_type": "execute_result"
    }
   ],
   "source": [
    "wordnet.synsets(b'\\xe7\\x8a\\xac'.decode('utf-8'), lang='jpn')"
   ]
  },
  {
   "cell_type": "markdown",
   "metadata": {},
   "source": [
    "## Hypernyms and Hyponyms –\n",
    "\n",
    "Hypernyms: More abstract terms\n",
    "Hyponyms: More specific terms."
   ]
  },
  {
   "cell_type": "code",
   "execution_count": 12,
   "metadata": {},
   "outputs": [
    {
     "name": "stdout",
     "output_type": "stream",
     "text": [
      "Synset name :   hello.n.01\n",
      "\n",
      "Synset abstract term :   [Synset('greeting.n.01')]\n",
      "\n",
      "Synset specific term :   [Synset('calling_card.n.02'), Synset('good_afternoon.n.01'), Synset('good_morning.n.01'), Synset('hail.n.03'), Synset('hello.n.01'), Synset('pax.n.01'), Synset('reception.n.01'), Synset('regard.n.03'), Synset('salute.n.02'), Synset('salute.n.03'), Synset('welcome.n.02'), Synset('well-wishing.n.01')]\n",
      "\n",
      "Synset root hypernerm :   [Synset('entity.n.01')]\n"
     ]
    }
   ],
   "source": [
    "syn = wordnet.synsets('hello')[0]\n",
    "  \n",
    "print (\"Synset name :  \", syn.name())\n",
    "  \n",
    "print (\"\\nSynset abstract term :  \", syn.hypernyms())\n",
    "  \n",
    "print (\"\\nSynset specific term :  \", \n",
    "       syn.hypernyms()[0].hyponyms())\n",
    "  \n",
    "syn.root_hypernyms()\n",
    "  \n",
    "print (\"\\nSynset root hypernerm :  \", syn.root_hypernyms())"
   ]
  },
  {
   "cell_type": "code",
   "execution_count": 10,
   "metadata": {},
   "outputs": [
    {
     "name": "stdout",
     "output_type": "stream",
     "text": [
      "hypernyms :  [Synset('canine.n.02'), Synset('domestic_animal.n.01')]\n",
      "hyponyms:  [Synset('basenji.n.01'), Synset('corgi.n.01'), Synset('cur.n.01'), Synset('dalmatian.n.02'), Synset('great_pyrenees.n.01'), Synset('griffon.n.02'), Synset('hunting_dog.n.01'), Synset('lapdog.n.01'), Synset('leonberg.n.01'), Synset('mexican_hairless.n.01'), Synset('newfoundland.n.01'), Synset('pooch.n.01'), Synset('poodle.n.01'), Synset('pug.n.01'), Synset('puppy.n.01'), Synset('spitz.n.01'), Synset('toy_dog.n.01'), Synset('working_dog.n.01')]\n",
      "member_holonyms : [Synset('canis.n.01'), Synset('pack.n.06')]\n",
      "root_hypernyms :  [Synset('entity.n.01')]\n",
      "lowest_common_hypernyms :  [Synset('carnivore.n.01')]\n"
     ]
    }
   ],
   "source": [
    "dog = wordnet.synset('dog.n.01')\n",
    "print (\"hypernyms : \",dog.hypernyms())\n",
    "print (\"hyponyms: \", dog.hyponyms())\n",
    "print(\"member_holonyms :\",dog.member_holonyms())\n",
    "print(\"root_hypernyms : \",dog.root_hypernyms())\n",
    "print (\"lowest_common_hypernyms : \", wordnet.synset('dog.n.01').lowest_common_hypernyms(wordnet.synset('cat.n.01')))"
   ]
  },
  {
   "cell_type": "code",
   "execution_count": 13,
   "metadata": {},
   "outputs": [
    {
     "name": "stdout",
     "output_type": "stream",
     "text": [
      "Syn tag :  n\n",
      "Syn tag :  v\n",
      "Syn tag :  a\n",
      "Syn tag :  r\n"
     ]
    }
   ],
   "source": [
    "\n",
    "syn = wordnet.synsets('hello')[0]\n",
    "print (\"Syn tag : \", syn.pos())\n",
    "  \n",
    "syn = wordnet.synsets('doing')[0]\n",
    "print (\"Syn tag : \", syn.pos())\n",
    "  \n",
    "syn = wordnet.synsets('beautiful')[0]\n",
    "print (\"Syn tag : \", syn.pos())\n",
    "  \n",
    "syn = wordnet.synsets('quickly')[0]\n",
    "print (\"Syn tag : \", syn.pos())"
   ]
  },
  {
   "cell_type": "code",
   "execution_count": 11,
   "metadata": {},
   "outputs": [
    {
     "name": "stdout",
     "output_type": "stream",
     "text": [
      "Synonyms: ['worse', 'worse', 'worse', 'worsened', 'bad', 'bad', 'big', 'bad', 'tough', 'bad', 'spoiled', 'spoilt', 'regretful', 'sorry', 'bad', 'bad', 'uncollectible', 'bad', 'bad', 'bad', 'risky', 'high-risk', 'speculative', 'bad', 'unfit', 'unsound', 'bad', 'bad', 'bad', 'forged', 'bad', 'defective', 'worse']\n",
      "Antonyms: ['better', 'better', 'good', 'unregretful']\n"
     ]
    }
   ],
   "source": [
    "# antonyms\n",
    "# To get the list of antonyms, we first need to check the lemmas- are there antonyms?\n",
    "syn = list()\n",
    "ant = []\n",
    "for synset in wordnet.synsets(\"Worse\"):\n",
    "   for lemma in synset.lemmas():\n",
    "      syn.append(lemma.name())    #add the synonyms\n",
    "      if lemma.antonyms():    #When antonyms are available, add them into the list\n",
    "          ant.append(lemma.antonyms()[0].name())\n",
    "print('Synonyms: ' + str(syn))\n",
    "print('Antonyms: ' + str(ant))"
   ]
  },
  {
   "cell_type": "code",
   "execution_count": null,
   "metadata": {},
   "outputs": [],
   "source": []
  }
 ],
 "metadata": {
  "kernelspec": {
   "display_name": "Python 3 (ipykernel)",
   "language": "python",
   "name": "python3"
  },
  "language_info": {
   "codemirror_mode": {
    "name": "ipython",
    "version": 3
   },
   "file_extension": ".py",
   "mimetype": "text/x-python",
   "name": "python",
   "nbconvert_exporter": "python",
   "pygments_lexer": "ipython3",
   "version": "3.7.10"
  }
 },
 "nbformat": 4,
 "nbformat_minor": 4
}
