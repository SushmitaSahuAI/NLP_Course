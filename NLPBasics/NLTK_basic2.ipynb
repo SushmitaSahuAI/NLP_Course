{
 "cells": [
  {
   "cell_type": "code",
   "execution_count": 1,
   "metadata": {},
   "outputs": [],
   "source": [
    "import nltk"
   ]
  },
  {
   "cell_type": "code",
   "execution_count": 2,
   "metadata": {},
   "outputs": [
    {
     "data": {
      "text/plain": [
       "'3.2.4'"
      ]
     },
     "execution_count": 2,
     "metadata": {},
     "output_type": "execute_result"
    }
   ],
   "source": [
    "nltk.__version__"
   ]
  },
  {
   "cell_type": "markdown",
   "metadata": {},
   "source": [
    "# Stemming and Lemmatization\n",
    "Stemming and Lemmatization are Text Normalization techniques of NLP. \n",
    "Stemming is the process of producing morphological variants of a root/base word.  A stemming algorithm reduces “retrieval”, “retrieved”, “retrieves” to the stem “retrieve”.\n"
   ]
  },
  {
   "cell_type": "code",
   "execution_count": 3,
   "metadata": {},
   "outputs": [
    {
     "name": "stdout",
     "output_type": "stream",
     "text": [
      "Porter Stemmer\n",
      "cat\n",
      "troubl\n",
      "troubl\n",
      "troubl\n"
     ]
    }
   ],
   "source": [
    "from nltk.stem import PorterStemmer\n",
    "from nltk.stem import SnowballStemmer\n",
    "#create an object of class PorterStemmer\n",
    "porter = PorterStemmer()\n",
    "snowball = SnowballStemmer(language='english')\n",
    "\n",
    "#proide a word to be stemmed\n",
    "print(\"Porter Stemmer\")\n",
    "print(porter.stem(\"cats\"))\n",
    "print(porter.stem(\"trouble\"))\n",
    "print(porter.stem(\"troubling\"))\n",
    "print(porter.stem(\"troubled\"))"
   ]
  },
  {
   "cell_type": "code",
   "execution_count": 4,
   "metadata": {},
   "outputs": [
    {
     "name": "stdout",
     "output_type": "stream",
     "text": [
      "univers\n",
      "univers\n",
      "univers\n",
      "univers\n"
     ]
    }
   ],
   "source": [
    "from nltk.stem import LancasterStemmer\n",
    "lancas = LancasterStemmer()\n",
    "print(lancas.stem(\"Universe\"))\n",
    "print(lancas.stem(\"University\"))\n",
    "print(lancas.stem(\"Universal\"))\n",
    "print(lancas.stem(\"Universities\"))"
   ]
  },
  {
   "cell_type": "code",
   "execution_count": 5,
   "metadata": {},
   "outputs": [
    {
     "name": "stdout",
     "output_type": "stream",
     "text": [
      "fairly ......\n",
      "Porter : fairli\n",
      "Snowball : fair\n",
      "Lancas : fair\n",
      "Salty ....\n",
      "Porter : salti\n",
      "Snowball : salti\n",
      "Lancas : sal\n",
      "generically ....\n",
      "Porter : gener\n",
      "Snowball : generic\n",
      "Lancas : gen\n",
      "generous ......\n",
      "Porter : gener\n",
      "Snowball : generous\n",
      "Lancas : gen\n"
     ]
    }
   ],
   "source": [
    "print (\"fairly ......\")\n",
    "print(\"Porter :\",porter.stem('fairly'))\n",
    "print(\"Snowball :\",snowball.stem('fairly'))\n",
    "print(\"Lancas :\",lancas.stem('fairly'))\n",
    "print (\"Salty ....\")\n",
    "print(\"Porter :\",porter.stem('salty'))\n",
    "print(\"Snowball :\",snowball.stem('salty'))\n",
    "print(\"Lancas :\",lancas.stem('salty'))\n",
    "print (\"generically ....\")\n",
    "print(\"Porter :\",porter.stem('generically'))\n",
    "print(\"Snowball :\",snowball.stem('generically'))\n",
    "print(\"Lancas :\",lancas.stem('generically'))\n",
    "print (\"generous ......\")\n",
    "print(\"Porter :\",porter.stem('generous'))\n",
    "print(\"Snowball :\",snowball.stem('generous'))\n",
    "print(\"Lancas :\",lancas.stem('generous'))"
   ]
  },
  {
   "cell_type": "code",
   "execution_count": 6,
   "metadata": {},
   "outputs": [
    {
     "name": "stdout",
     "output_type": "stream",
     "text": [
      "caress fli die mule deni die agre own humbl size meet state siez item sensat tradit refer colon plot\n"
     ]
    }
   ],
   "source": [
    "plurals = ['caresses', 'flies', 'dies', 'mules', 'denied',\n",
    "            'died', 'agreed', 'owned', 'humbled', 'sized',\n",
    "            'meeting', 'stating', 'siezing', 'itemization',\n",
    "             'sensational', 'traditional', 'reference', 'colonizer',\n",
    "            'plotted']\n",
    "singles = [porter.stem(plural) for plural in plurals]\n",
    "print(' '.join(singles))"
   ]
  },
  {
   "cell_type": "code",
   "execution_count": 8,
   "metadata": {},
   "outputs": [
    {
     "name": "stdout",
     "output_type": "stream",
     "text": [
      "rocks : rock\n",
      "corpora : corpus\n",
      "better : good\n"
     ]
    }
   ],
   "source": [
    "# import these modules\n",
    "from nltk.stem import WordNetLemmatizer\n",
    "  \n",
    "lemmatizer = WordNetLemmatizer()\n",
    "  \n",
    "print(\"rocks :\", lemmatizer.lemmatize(\"rocks\"))\n",
    "print(\"corpora :\", lemmatizer.lemmatize(\"corpora\"))\n",
    "  \n",
    "# a denotes adjective in \"pos\"\n",
    "print(\"better :\", lemmatizer.lemmatize(\"better\", pos =\"a\"))"
   ]
  },
  {
   "cell_type": "code",
   "execution_count": 10,
   "metadata": {},
   "outputs": [
    {
     "name": "stdout",
     "output_type": "stream",
     "text": [
      "The friends of DeSoto love scarves .\n",
      "The friend of DeSoto love scarf .\n"
     ]
    }
   ],
   "source": [
    "from nltk.tokenize import word_tokenize\n",
    "string_for_lemmatizing = \"The friends of DeSoto love scarves.\"\n",
    "words = word_tokenize(string_for_lemmatizing)\n",
    "print (' '.join(words))\n",
    "lemmatized_words = [lemmatizer.lemmatize(word) for word in words]\n",
    "print (' '.join(lemmatized_words))"
   ]
  },
  {
   "cell_type": "code",
   "execution_count": 11,
   "metadata": {},
   "outputs": [
    {
     "name": "stdout",
     "output_type": "stream",
     "text": [
      "worst\n",
      "bad\n"
     ]
    }
   ],
   "source": [
    "print(lemmatizer.lemmatize(\"worst\"))\n",
    "# You got the result 'worst' because lemmatizer.lemmatize() assumed that \"worst\" was a noun. You can make it clear that you want \"worst\" to be an adjective\n",
    "print(lemmatizer.lemmatize(\"worst\", pos=\"a\"))"
   ]
  },
  {
   "cell_type": "code",
   "execution_count": null,
   "metadata": {},
   "outputs": [],
   "source": []
  }
 ],
 "metadata": {
  "kernelspec": {
   "display_name": "Python 3 (ipykernel)",
   "language": "python",
   "name": "python3"
  },
  "language_info": {
   "codemirror_mode": {
    "name": "ipython",
    "version": 3
   },
   "file_extension": ".py",
   "mimetype": "text/x-python",
   "name": "python",
   "nbconvert_exporter": "python",
   "pygments_lexer": "ipython3",
   "version": "3.7.10"
  }
 },
 "nbformat": 4,
 "nbformat_minor": 4
}
