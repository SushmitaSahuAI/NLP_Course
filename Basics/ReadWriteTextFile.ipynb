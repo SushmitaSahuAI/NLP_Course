{
 "cells": [
  {
   "cell_type": "markdown",
   "id": "06c7632f-89ec-4918-946f-bf1c81da9971",
   "metadata": {},
   "source": [
    "## Reading and Writing Text files\n",
    "Two types of files :\n",
    "- Text files: In this type of file, Each line of text is terminated with a special character called EOL (End of Line), which is the new line character (‘\\n’) in python by default.\n",
    "- Binary files: In this type of file, there is no terminator for a line and the data is stored after converting it into machine understandable binary language.\n"
   ]
  },
  {
   "cell_type": "markdown",
   "id": "8ab28656-b97c-46a5-8e40-2ae58140ecec",
   "metadata": {},
   "source": [
    "### Access modes of File Handler\n",
    "- Read Only (‘r’) : Open text file for reading. The handle is positioned at the beginning of the file. If the file does not exists, raises I/O error. This is also the default mode in which file is opened.\n",
    "- Read and Write (‘r+’) : Open the file for reading and writing. The handle is positioned at the beginning of the file. Raises I/O error if the file does not exists.\n",
    "- Write Only (‘w’) : Open the file for writing. For existing file, the data is truncated and over-written. The handle is positioned at the beginning of the file. Creates the file if the file does not exists.\n",
    "- Write and Read (‘w+’) : Open the file for reading and writing. For existing file, data is truncated and over-written. The handle is positioned at the beginning of the file.\n",
    "- Append Only (‘a’) : Open the file for writing. The file is created if it does not exist. The handle is positioned at the end of the file. The data being written will be inserted at the end, after the existing data.\n",
    "- Append and Read (‘a+’) : Open the file for reading and writing. The file is created if it does not exist. The handle is positioned at the end of the file. The data being written will be inserted at the end, after the existing data."
   ]
  },
  {
   "cell_type": "markdown",
   "id": "03601633-be67-4dc6-bd00-6b9f2cee35ce",
   "metadata": {},
   "source": [
    "### Writing a text file\n",
    "To write a text file following steps need to be performed\n",
    "- open the file in write or append mode using open() \n",
    "- write to text file using write or writelines()\n",
    "- close the file using close()\n",
    "\n",
    "If a file is opened using 'with', it doesnt need to be explicitely closed."
   ]
  },
  {
   "cell_type": "code",
   "execution_count": 1,
   "id": "1a1b6ff5-e439-4ccb-ad3e-5968f9d3dc3d",
   "metadata": {},
   "outputs": [],
   "source": [
    "lines = ['Readme', 'Example', 'Write to text file']\n",
    "with open('write1.txt', 'w') as f:\n",
    "    for line in lines:\n",
    "        f.write(line)\n",
    "        f.write('\\n')"
   ]
  },
  {
   "cell_type": "markdown",
   "id": "c36dd4f7-55b4-4902-b207-7d4c07d341a2",
   "metadata": {},
   "source": [
    "### Appending Text files"
   ]
  },
  {
   "cell_type": "code",
   "execution_count": 2,
   "id": "f04941bd-f778-46a7-9d3d-f22a3685893e",
   "metadata": {},
   "outputs": [],
   "source": [
    "more_lines = ['', 'Append text files', 'The End']\n",
    "with open('write1.txt', 'a') as f:\n",
    "    f.writelines('\\n'.join(more_lines))"
   ]
  },
  {
   "cell_type": "markdown",
   "id": "5b0bd7b9-9a60-4940-84eb-104766e46407",
   "metadata": {},
   "source": [
    "### Writing to a UTF-8 text file\n",
    "While writing utf-8 characters to text file using above code gives the following error:\n",
    "\n",
    "UnicodeEncodeError: 'charmap' codec can't encode characters in position 0-44: character maps to <undefined>"
   ]
  },
  {
   "cell_type": "code",
   "execution_count": 3,
   "id": "12893851-fa29-44da-8bc4-c2d0291cd04f",
   "metadata": {},
   "outputs": [],
   "source": [
    "quote = '成功を収める人とは人が投げてきたレンガでしっかりした基盤を築くことができる人のことである。'\n",
    "\n",
    "with open('quotes.txt', 'w', encoding='utf-8') as f:\n",
    "    f.write(quote)\n"
   ]
  },
  {
   "cell_type": "markdown",
   "id": "489d919f-5d36-4297-be20-7f9356e2a8b6",
   "metadata": {},
   "source": [
    "## Read a text file\n",
    "Using the read() method"
   ]
  },
  {
   "cell_type": "code",
   "execution_count": 4,
   "id": "3b497134-a459-48f1-8be4-c11a2c6dd9b7",
   "metadata": {},
   "outputs": [
    {
     "name": "stdout",
     "output_type": "stream",
     "text": [
      "Readme\n",
      "Example\n",
      "Write to text file\n",
      "\n",
      "Append text files\n",
      "The End\n"
     ]
    }
   ],
   "source": [
    "with open('write1.txt') as f:\n",
    "    contents = f.read()\n",
    "    print(contents)"
   ]
  },
  {
   "cell_type": "code",
   "execution_count": 5,
   "id": "b7bf5fd8-57e0-4b6b-9269-f56c9739c40f",
   "metadata": {},
   "outputs": [
    {
     "name": "stdout",
     "output_type": "stream",
     "text": [
      "line 1: Readme\n",
      "\n",
      "line 2: Example\n",
      "\n",
      "line 3: Write to text file\n",
      "\n",
      "line 4: \n",
      "\n",
      "line 5: Append text files\n",
      "\n",
      "line 6: The End\n"
     ]
    }
   ],
   "source": [
    "lines = []\n",
    "with open('write1.txt') as f:\n",
    "    lines = f.readlines()\n",
    "\n",
    "count = 0\n",
    "for line in lines:\n",
    "    count += 1\n",
    "    print(f'line {count}: {line}')    "
   ]
  },
  {
   "cell_type": "markdown",
   "id": "dc4312c4-f495-4a2f-b81a-54cf283394f0",
   "metadata": {},
   "source": [
    "### Concise way to read file line by line\n",
    "open() function returns a file object which is an iterable object. Therefore, you can use a for loop to iterate over the lines of a text file."
   ]
  },
  {
   "cell_type": "code",
   "execution_count": 6,
   "id": "f2c48f9a-40e1-44e4-9936-47c565a8ffbb",
   "metadata": {},
   "outputs": [
    {
     "name": "stdout",
     "output_type": "stream",
     "text": [
      "Readme\n",
      "\n",
      "Example\n",
      "\n",
      "Write to text file\n",
      "\n",
      "\n",
      "\n",
      "Append text files\n",
      "\n",
      "The End\n"
     ]
    }
   ],
   "source": [
    "with open('write1.txt') as f:\n",
    "    for line in f:\n",
    "        print(line)"
   ]
  },
  {
   "cell_type": "markdown",
   "id": "38bdc6c2-79b6-4c27-9f40-ae86fc6d4afd",
   "metadata": {},
   "source": [
    "### Read UTF-8 text files"
   ]
  },
  {
   "cell_type": "code",
   "execution_count": 7,
   "id": "d4b4fca2-937c-446d-9edd-48ca50521887",
   "metadata": {},
   "outputs": [
    {
     "name": "stdout",
     "output_type": "stream",
     "text": [
      "成功を収める人とは人が投げてきたレンガでしっかりした基盤を築くことができる人のことである。\n"
     ]
    }
   ],
   "source": [
    "with open('quotes.txt', encoding='utf8') as f:\n",
    "    for line in f:\n",
    "        print(line.strip())\n"
   ]
  },
  {
   "cell_type": "code",
   "execution_count": 10,
   "id": "0ab89bdd-513b-4480-87de-195ee47a6c34",
   "metadata": {},
   "outputs": [
    {
     "name": "stdout",
     "output_type": "stream",
     "text": [
      "Output of Read function is \n",
      "Hello \n",
      "This is Delhi \n",
      "This is Paris \n",
      "This is London \n",
      "\n",
      "****\n",
      "Output of Readline function is \n",
      "Hello \n",
      "\n",
      "****\n",
      "Output of Read(9) function is \n",
      "Hello \n",
      "Th\n",
      "****\n",
      "Output of Readline(9) function is \n",
      "Hello \n",
      "\n",
      "Output of Readlines function is \n",
      "['Hello \\n', 'This is Delhi \\n', 'This is Paris \\n', 'This is London \\n']\n",
      "****\n"
     ]
    }
   ],
   "source": [
    "# Program to show various ways to read and\n",
    "# write data in a file.\n",
    "file1 = open(\"myfile.txt\",\"w\")\n",
    "L = [\"This is Delhi \\n\",\"This is Paris \\n\",\"This is London \\n\"]\n",
    "\n",
    "# \\n is placed to indicate EOL (End of Line)\n",
    "file1.write(\"Hello \\n\")\n",
    "file1.writelines(L)\n",
    "file1.close() #to change file access modes\n",
    "\n",
    "file1 = open(\"myfile.txt\",\"r+\")\n",
    "\n",
    "print (\"Output of Read function is \")\n",
    "print (file1.read())\n",
    "print (\"****\")\n",
    "\n",
    "# seek(n) takes the file handle to the nth\n",
    "# bite from the beginning.\n",
    "file1.seek(0)\n",
    "\n",
    "print (\"Output of Readline function is \")\n",
    "print (file1.readline())\n",
    "print (\"****\")\n",
    "\n",
    "file1.seek(0)\n",
    "\n",
    "# To show difference between read and readline\n",
    "print (\"Output of Read(9) function is \")\n",
    "print (file1.read(9))\n",
    "print (\"****\")\n",
    "\n",
    "file1.seek(0)\n",
    "\n",
    "print (\"Output of Readline(9) function is \")\n",
    "print (file1.readline(9))\n",
    "\n",
    "file1.seek(0)\n",
    "# readlines function\n",
    "print (\"Output of Readlines function is \")\n",
    "print (file1.readlines())\n",
    "print (\"****\")\n",
    "file1.close()\n"
   ]
  },
  {
   "cell_type": "code",
   "execution_count": null,
   "id": "5d796ed0-eb72-4047-8ec2-851d9fb6be9a",
   "metadata": {},
   "outputs": [],
   "source": []
  }
 ],
 "metadata": {
  "kernelspec": {
   "display_name": "Python 3 (ipykernel)",
   "language": "python",
   "name": "python3"
  },
  "language_info": {
   "codemirror_mode": {
    "name": "ipython",
    "version": 3
   },
   "file_extension": ".py",
   "mimetype": "text/x-python",
   "name": "python",
   "nbconvert_exporter": "python",
   "pygments_lexer": "ipython3",
   "version": "3.7.10"
  }
 },
 "nbformat": 4,
 "nbformat_minor": 5
}
