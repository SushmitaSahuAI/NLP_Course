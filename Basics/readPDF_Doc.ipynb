{
 "cells": [
  {
   "cell_type": "code",
   "execution_count": 1,
   "id": "36ffa1bd",
   "metadata": {},
   "outputs": [
    {
     "name": "stdout",
     "output_type": "stream",
     "text": [
      "Collecting PyPDF2\n",
      "  Downloading PyPDF2-1.26.0.tar.gz (77 kB)\n",
      "Building wheels for collected packages: PyPDF2\n",
      "  Building wheel for PyPDF2 (setup.py): started\n",
      "  Building wheel for PyPDF2 (setup.py): finished with status 'done'\n",
      "  Created wheel for PyPDF2: filename=PyPDF2-1.26.0-py3-none-any.whl size=61085 sha256=9f27e7034df861cdd453e8b19d0da799c47eb9c3609ad4b2e759fa3a8708f8ed\n",
      "  Stored in directory: c:\\users\\565637\\appdata\\local\\pip\\cache\\wheels\\b1\\1a\\8f\\a4c34be976825a2f7948d0fa40907598d69834f8ab5889de11\n",
      "Successfully built PyPDF2\n",
      "Installing collected packages: PyPDF2\n",
      "Successfully installed PyPDF2-1.26.0\n"
     ]
    }
   ],
   "source": [
    "!pip install PyPDF2"
   ]
  },
  {
   "cell_type": "markdown",
   "id": "e3a59449",
   "metadata": {},
   "source": [
    "## PyPDF2\n",
    " python library built as a PDF toolkit. It is capable of:  \n",
    "\n",
    "- Extracting document information (title, author, …)\n",
    "- Splitting documents page by page\n",
    "- Merging documents page by page\n",
    "- Cropping pages\n",
    "- Merging multiple pages into a single page\n",
    "- Encrypting and decrypting PDF files\n"
   ]
  },
  {
   "cell_type": "markdown",
   "id": "236fb316",
   "metadata": {},
   "source": [
    "##  Extracting text from PDF file "
   ]
  },
  {
   "cell_type": "code",
   "execution_count": 3,
   "id": "3dae9e9d",
   "metadata": {},
   "outputs": [
    {
     "name": "stdout",
     "output_type": "stream",
     "text": [
      "# of pages  46\n",
      "Text from page 1  !\"\"Quantum Bridge Analytics I: \n",
      "A Tutorial on Formulating \n",
      "and Using QUBO Models\n",
      "  Fred Glover\n",
      "1, Gary Kochenberger\n",
      "2, Yu Du\n",
      "2   Abstract\n",
      "   Quantum Bridge Analytics\n",
      " relates generally to \n",
      "method\n",
      "s and system\n",
      "s for \n",
      "hybrid \n",
      "classical\n",
      "-quantum \n",
      "computing, and \n",
      "more particularly is devoted to developing\n",
      " tools for bridging classical \n",
      "and quantum computing to gain the benefits of their alliance in the present and enable enhanced \n",
      "practical application of quantum\n",
      " computing in the future. \n",
      "  This is the first of a two\n",
      "-part tutorial that surveys key elements of Quantum Bridge Analytics and \n",
      "its applications, with an emphasis on supplementing models with numerical illustrations. In Part \n",
      "1 (the present paper) we focus o\n",
      "n the \n",
      "Quadratic Unconstrained Binary Optimization (QUBO) \n",
      "model\n",
      " which is presently the most widely applied optimization model in the quantum computing \n",
      "area, and which \n",
      "unifies a rich variety of combinatorial optimization problems. \n",
      "    Keywords\n",
      " Quadratic \n",
      "Unconstrained Binary Optimization (QUBO) \n",
      "!\n",
      " Quantum \n",
      "Computing \n",
      "!\n",
      " Quantum Bridge Analytics \n",
      "!\n",
      " Combinatorial Optimization\n",
      "     ------------------------------------------------------------------------------------------------------------------\n",
      "   1ECEE, College of \n",
      "Engineering and Applied Science, University of Colorado, Boulder, CO \n",
      "80302 USA  fred.glover@colorado.edu\n",
      "  2College of Business, University of Colorado at Denver, Denver, CO 80217 USA, \n",
      "gary.kochenberger@\n",
      "ucdenver.edu; yu.du@ucdenver.edu\n",
      "   \n"
     ]
    }
   ],
   "source": [
    "# importing required modules\n",
    "import PyPDF2\n",
    "\n",
    "# creating a pdf file object\n",
    "pdfFileObj = open('Qubo1.pdf', 'rb')\n",
    "\n",
    "# creating a pdf reader object\n",
    "pdfReader = PyPDF2.PdfFileReader(pdfFileObj)\n",
    "\n",
    "# printing number of pages in pdf file\n",
    "print(\"# of pages \",pdfReader.numPages)\n",
    "\n",
    "# creating a page object\n",
    "pageObj = pdfReader.getPage(0)\n",
    "\n",
    "# extracting text from page\n",
    "print(\"Text from page 1 \",pageObj.extractText())\n",
    "\n",
    "# closing the pdf file object\n",
    "pdfFileObj.close()\n"
   ]
  },
  {
   "cell_type": "markdown",
   "id": "ce766414",
   "metadata": {},
   "source": [
    "## Read and Write Doc files"
   ]
  },
  {
   "cell_type": "code",
   "execution_count": 4,
   "id": "37d64b69",
   "metadata": {},
   "outputs": [
    {
     "name": "stdout",
     "output_type": "stream",
     "text": [
      "Collecting python-docx\n",
      "  Downloading python-docx-0.8.11.tar.gz (5.6 MB)\n",
      "Requirement already satisfied: lxml>=2.3.2 in c:\\users\\565637\\anaconda3\\lib\\site-packages (from python-docx) (4.6.3)\n",
      "Building wheels for collected packages: python-docx\n",
      "  Building wheel for python-docx (setup.py): started\n",
      "  Building wheel for python-docx (setup.py): still running...\n",
      "  Building wheel for python-docx (setup.py): finished with status 'done'\n",
      "  Created wheel for python-docx: filename=python_docx-0.8.11-py3-none-any.whl size=184600 sha256=5750948696623a7bc603be871830091c281143e3b4a2f1c5e5b1144384cd2ecf\n",
      "  Stored in directory: c:\\users\\565637\\appdata\\local\\pip\\cache\\wheels\\32\\b8\\b2\\c4c2b95765e615fe139b0b17b5ea7c0e1b6519b0a9ec8fb34d\n",
      "Successfully built python-docx\n",
      "Installing collected packages: python-docx\n",
      "Successfully installed python-docx-0.8.11\n"
     ]
    }
   ],
   "source": [
    "!pip install python-docx"
   ]
  },
  {
   "cell_type": "code",
   "execution_count": 18,
   "id": "6abf71bb",
   "metadata": {},
   "outputs": [],
   "source": [
    "import docx\n",
    "\n",
    "doc = docx.Document(\"sampleDoc.docx\")"
   ]
  },
  {
   "cell_type": "markdown",
   "id": "254a098c",
   "metadata": {},
   "source": [
    "### The Document class object doc can now be used to read the content of the document."
   ]
  },
  {
   "cell_type": "code",
   "execution_count": 19,
   "id": "f67be30c",
   "metadata": {},
   "outputs": [
    {
     "data": {
      "text/plain": [
       "21"
      ]
     },
     "execution_count": 19,
     "metadata": {},
     "output_type": "execute_result"
    }
   ],
   "source": [
    "all_paras = doc.paragraphs\n",
    "len(all_paras)"
   ]
  },
  {
   "cell_type": "markdown",
   "id": "24c0a28b",
   "metadata": {},
   "source": [
    "### Print all paragraghs"
   ]
  },
  {
   "cell_type": "code",
   "execution_count": 20,
   "id": "e5a10c1f",
   "metadata": {},
   "outputs": [
    {
     "name": "stdout",
     "output_type": "stream",
     "text": [
      "Sample Document\n",
      "-------\n",
      "This is a sample document to test python-docx module. \n",
      "-------\n",
      "\n",
      "-------\n",
      "Introduction\n",
      "-------\n",
      "\n",
      "-------\n",
      "\n",
      "-------\n",
      "\n",
      "-------\n",
      "Welcome to stackabuse.com\n",
      "-------\n",
      "\n",
      "-------\n",
      "The best site for learning Python and Other Programming Languages\n",
      "-------\n",
      "\n",
      "-------\n",
      "Learn to program and write code in the most efficient manner\n",
      "-------\n",
      "\n",
      "-------\n",
      "\n",
      "-------\n",
      "\n",
      "-------\n",
      "Details\n",
      "-------\n",
      "\n",
      "-------\n",
      "\n",
      "-------\n",
      "\n",
      "-------\n",
      "This website contains useful programming articles for Java, Python, Spring etc.\n",
      "-------\n",
      "sss\n",
      "-------\n"
     ]
    }
   ],
   "source": [
    "for para in all_paras:\n",
    "    print(para.text)\n",
    "    print(\"-------\")"
   ]
  },
  {
   "cell_type": "markdown",
   "id": "6cd21b53",
   "metadata": {},
   "source": [
    "### Print a specific para"
   ]
  },
  {
   "cell_type": "code",
   "execution_count": 22,
   "id": "8e39088d",
   "metadata": {},
   "outputs": [
    {
     "name": "stdout",
     "output_type": "stream",
     "text": [
      "This is a sample document to test python-docx module. \n"
     ]
    }
   ],
   "source": [
    "single_para = doc.paragraphs[1]\n",
    "print(single_para.text)"
   ]
  },
  {
   "cell_type": "markdown",
   "id": "e1900c81",
   "metadata": {},
   "source": [
    "### Reading runs\n",
    "A run in a word document is a continuous sequence of words having similar properties, such as similar font sizes, font shapes, and font styles."
   ]
  },
  {
   "cell_type": "code",
   "execution_count": 24,
   "id": "a8bf59e7",
   "metadata": {},
   "outputs": [
    {
     "name": "stdout",
     "output_type": "stream",
     "text": [
      "This is a sample document to test\n",
      "****\n",
      " \n",
      "****\n",
      "python-docx\n",
      "****\n",
      " module. \n",
      "****\n"
     ]
    }
   ],
   "source": [
    "single_para = doc.paragraphs[1]\n",
    "for run in single_para.runs:\n",
    "    print(run.text)\n",
    "    print (\"****\")"
   ]
  },
  {
   "cell_type": "markdown",
   "id": "a8816686",
   "metadata": {},
   "source": [
    "## Writing MS Word Files with Python-Docx Module"
   ]
  },
  {
   "cell_type": "code",
   "execution_count": 27,
   "id": "b25fe4f8",
   "metadata": {},
   "outputs": [],
   "source": [
    "mydoc = docx.Document()\n",
    "mydoc.add_paragraph(\"This is first paragraph of a MS Word file.\")\n",
    "mydoc.save(\"my_file.docx\")"
   ]
  },
  {
   "cell_type": "code",
   "execution_count": 28,
   "id": "d57e6bff",
   "metadata": {},
   "outputs": [],
   "source": [
    "mydoc.add_paragraph(\"This is the second paragraph of a MS Word file.\")\n",
    "mydoc.save(\"my_file.docx\")"
   ]
  },
  {
   "cell_type": "code",
   "execution_count": 29,
   "id": "ae080f7c",
   "metadata": {},
   "outputs": [],
   "source": [
    "third_para = mydoc.add_paragraph(\"This is the third paragraph.\")\n",
    "third_para.add_run(\" this is a section at the end of third paragraph\")\n",
    "mydoc.save(\"my_file.docx\")"
   ]
  },
  {
   "cell_type": "code",
   "execution_count": 32,
   "id": "c36606e7",
   "metadata": {},
   "outputs": [],
   "source": [
    "mydoc.add_heading(\"This is level 1 heading\", 0)\n",
    "mydoc.add_heading(\"This is level 2 heading\", 1)\n",
    "mydoc.add_heading(\"This is level 3 heading\", 2)\n",
    "mydoc.save(\"my_file.docx\")"
   ]
  },
  {
   "cell_type": "markdown",
   "id": "837ae2ed",
   "metadata": {},
   "source": [
    "### Document creation"
   ]
  },
  {
   "cell_type": "code",
   "execution_count": 34,
   "id": "efd37d84",
   "metadata": {},
   "outputs": [],
   "source": [
    "from docx import Document\n",
    "from docx.shared import Inches\n",
    "\n",
    "document = Document()\n",
    "\n",
    "document.add_heading('Document Title', 0)\n",
    "\n",
    "p = document.add_paragraph('A plain paragraph having some ')\n",
    "p.add_run('bold').bold = True\n",
    "p.add_run(' and some ')\n",
    "p.add_run('italic.').italic = True\n",
    "\n",
    "document.add_heading('Heading, level 1', level=1)\n",
    "document.add_paragraph('Intense quote', style='Intense Quote')\n",
    "\n",
    "document.add_paragraph(\n",
    "    'first item in unordered list', style='List Bullet'\n",
    ")\n",
    "document.add_paragraph(\n",
    "    'first item in ordered list', style='List Number'\n",
    ")\n",
    "\n",
    "document.add_picture('flower.png', width=Inches(1.25))\n",
    "\n",
    "records = (\n",
    "    (3, '101', 'Spam'),\n",
    "    (7, '422', 'Eggs'),\n",
    "    (4, '631', 'Spam, spam, eggs, and spam')\n",
    ")\n",
    "\n",
    "table = document.add_table(rows=1, cols=3)\n",
    "hdr_cells = table.rows[0].cells\n",
    "hdr_cells[0].text = 'Qty'\n",
    "hdr_cells[1].text = 'Id'\n",
    "hdr_cells[2].text = 'Desc'\n",
    "for qty, id, desc in records:\n",
    "    row_cells = table.add_row().cells\n",
    "    row_cells[0].text = str(qty)\n",
    "    row_cells[1].text = id\n",
    "    row_cells[2].text = desc\n",
    "\n",
    "document.add_page_break()\n",
    "\n",
    "document.save('demo.docx')"
   ]
  },
  {
   "cell_type": "code",
   "execution_count": null,
   "id": "cef2698c",
   "metadata": {},
   "outputs": [],
   "source": []
  }
 ],
 "metadata": {
  "kernelspec": {
   "display_name": "Python 3 (ipykernel)",
   "language": "python",
   "name": "python3"
  },
  "language_info": {
   "codemirror_mode": {
    "name": "ipython",
    "version": 3
   },
   "file_extension": ".py",
   "mimetype": "text/x-python",
   "name": "python",
   "nbconvert_exporter": "python",
   "pygments_lexer": "ipython3",
   "version": "3.7.10"
  }
 },
 "nbformat": 4,
 "nbformat_minor": 5
}
