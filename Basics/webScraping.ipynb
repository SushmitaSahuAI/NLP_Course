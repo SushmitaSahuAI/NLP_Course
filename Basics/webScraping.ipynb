{
 "cells": [
  {
   "cell_type": "markdown",
   "id": "6adc2979-53c7-4b34-a1c4-5d6f6aac5dac",
   "metadata": {},
   "source": [
    "## Web Scraping\n",
    "Web scraping is used to collect large information from websites. \n",
    "<img src=\"https://d1jnx9ba8s6j9r.cloudfront.net/blog/wp-content/uploads/2018/11/Untitled-1-768x183.jpg\">"
   ]
  },
  {
   "cell_type": "markdown",
   "id": "cafc4126-d529-4de0-8eff-05a612ff1592",
   "metadata": {},
   "source": [
    "Python package urllib, which contains tools for working with URLs.  urllib.request module contains a function called urlopen() that can be used to open a URL within a program."
   ]
  },
  {
   "cell_type": "code",
   "execution_count": 1,
   "id": "6f99d6ae-1ddf-42fb-9dd7-806e24001a13",
   "metadata": {},
   "outputs": [],
   "source": [
    "from urllib.request import urlopen"
   ]
  },
  {
   "cell_type": "code",
   "execution_count": 2,
   "id": "b061d71e-dfab-432c-bace-fc6c82ae05aa",
   "metadata": {},
   "outputs": [],
   "source": [
    "url = \"http://olympus.realpython.org/profiles/aphrodite\""
   ]
  },
  {
   "cell_type": "code",
   "execution_count": 3,
   "id": "204299a8-ab96-456e-9caa-031cf7a0bf31",
   "metadata": {},
   "outputs": [
    {
     "data": {
      "text/plain": [
       "<http.client.HTTPResponse at 0x7f2e978998d0>"
      ]
     },
     "execution_count": 3,
     "metadata": {},
     "output_type": "execute_result"
    }
   ],
   "source": [
    "# To open the web page, pass url to urlopen():\n",
    "page = urlopen(url)\n",
    "# urlopen() returns an HTTPResponse object\n",
    "page"
   ]
  },
  {
   "cell_type": "markdown",
   "id": "d7eb62e8-e625-4b83-b35c-eb542df99b68",
   "metadata": {},
   "source": [
    "************************************************************************************************\n",
    "\n",
    "To extract the HTML from the page, first use the HTTPResponse object’s .read() method, which returns a sequence of bytes. Then use .decode() to decode the bytes to a string using UTF-8"
   ]
  },
  {
   "cell_type": "code",
   "execution_count": 4,
   "id": "3e44e52e-99d2-41d4-b274-d1b669dbb9a2",
   "metadata": {},
   "outputs": [
    {
     "name": "stdout",
     "output_type": "stream",
     "text": [
      "<html>\n",
      "<head>\n",
      "<title>Profile: Aphrodite</title>\n",
      "</head>\n",
      "<body bgcolor=\"yellow\">\n",
      "<center>\n",
      "<br><br>\n",
      "<img src=\"/static/aphrodite.gif\" />\n",
      "<h2>Name: Aphrodite</h2>\n",
      "<br><br>\n",
      "Favorite animal: Dove\n",
      "<br><br>\n",
      "Favorite color: Red\n",
      "<br><br>\n",
      "Hometown: Mount Olympus\n",
      "</center>\n",
      "</body>\n",
      "</html>\n",
      "\n"
     ]
    }
   ],
   "source": [
    "html_bytes = page.read()\n",
    "html = html_bytes.decode(\"utf-8\")\n",
    "# print html to see the contents\n",
    "print(html)"
   ]
  },
  {
   "cell_type": "markdown",
   "id": "ef43bb2e-0ddc-4029-a5af-7af520073e7e",
   "metadata": {},
   "source": [
    "### Extract Text From HTML With String Methods\n",
    "One way to extract information from a web page’s HTML is to use string methods. For instance, you can use .find() to search through the text of the HTML for the <title> tags and extract the title of the web page."
   ]
  },
  {
   "cell_type": "code",
   "execution_count": 5,
   "id": "96084f0f-cb3f-4b57-a785-1ad8f4a5f4d3",
   "metadata": {},
   "outputs": [
    {
     "data": {
      "text/plain": [
       "14"
      ]
     },
     "execution_count": 5,
     "metadata": {},
     "output_type": "execute_result"
    }
   ],
   "source": [
    "title_index = html.find(\"<title>\")\n",
    "title_index"
   ]
  },
  {
   "cell_type": "code",
   "execution_count": 6,
   "id": "b131328c-63c0-4a37-8721-675742cf9ae1",
   "metadata": {},
   "outputs": [
    {
     "data": {
      "text/plain": [
       "'Profile: Aphrodite'"
      ]
     },
     "execution_count": 6,
     "metadata": {},
     "output_type": "execute_result"
    }
   ],
   "source": [
    "start_index = title_index + len(\"<title>\")\n",
    "end_index = html.find(\"</title>\")\n",
    "title = html[start_index:end_index]\n",
    "title"
   ]
  },
  {
   "cell_type": "markdown",
   "id": "a3684266-f732-4c7e-aed9-bdd9dc7f19ee",
   "metadata": {},
   "source": [
    "# Advanced tools and libraries for Web Scraping\n",
    "- BeautifulSoup\n",
    "- Scrapy\n",
    "- Selenium"
   ]
  },
  {
   "cell_type": "markdown",
   "id": "773d8b44-d8f6-4e41-8e0a-821cd05ecdd1",
   "metadata": {},
   "source": [
    "A webpage may or may not be allowed to scrap. To know whether a website allows web scraping or not, you can look at the website’s “robots.txt” file. For this example, I am scraping Flipkart website. So, to see the “robots.txt” file, the URL is www.flipkart.com/robots.txt."
   ]
  },
  {
   "cell_type": "markdown",
   "id": "f4cb55ff-91d2-4c13-b18a-9502da8cdff0",
   "metadata": {},
   "source": [
    "The three main components of web-scraping are :\n",
    "- Crawl : Navigate to target website by making http request and download the response\n",
    "- Parse and Transform: Parse the response with an HTML parser, and extract required data\n",
    "- Store required data into json or csv"
   ]
  },
  {
   "cell_type": "markdown",
   "id": "ffe431f8-57b0-499d-8994-a8cd3233105a",
   "metadata": {},
   "source": [
    "### Crawl"
   ]
  },
  {
   "cell_type": "code",
   "execution_count": 9,
   "id": "e0ff9082-e14b-46e1-85fc-9c941a8d0b47",
   "metadata": {},
   "outputs": [
    {
     "data": {
      "text/plain": [
       "<html>\n",
       "<head>\n",
       "<title>Profile: Dionysus</title>\n",
       "</head>\n",
       "<body bgcolor=\"yellow\">\n",
       "<center>\n",
       "<br/><br/>\n",
       "<img src=\"/static/dionysus.jpg\"/>\n",
       "<h2>Name: Dionysus</h2>\n",
       "<img src=\"/static/grapes.png\"/><br/><br/>\n",
       "Hometown: Mount Olympus\n",
       "<br/><br/>\n",
       "Favorite animal: Leopard <br/>\n",
       "<br/>\n",
       "Favorite Color: Wine\n",
       "</center>\n",
       "</body>\n",
       "</html>"
      ]
     },
     "execution_count": 9,
     "metadata": {},
     "output_type": "execute_result"
    }
   ],
   "source": [
    "# importing required libraries\n",
    "from bs4 import BeautifulSoup\n",
    "from urllib.request import urlopen\n",
    "\n",
    "url = \"http://olympus.realpython.org/profiles/dionysus\"\n",
    "page = urlopen(url)\n",
    "html = page.read().decode(\"utf-8\")\n",
    "data = BeautifulSoup(html, \"html.parser\") #second argument, the string \"html.parser\", tells the object which parser to use behind the scenes. \"html.parser\" represents Python’s built-in HTML parser.\n",
    "data"
   ]
  },
  {
   "cell_type": "markdown",
   "id": "971c304c-4954-4d77-a79e-ff4558ae7ea0",
   "metadata": {},
   "source": [
    "### Parse and Transform\n",
    "Parse this data into an HTML Parser using BeautifulSoup\n",
    "\n",
    "### Use a BeautifulSoup Object\n",
    "BeautifulSoup objects have a .get_text() method that can be used to extract all the text from the document and automatically remove any HTML tags."
   ]
  },
  {
   "cell_type": "code",
   "execution_count": 12,
   "id": "93d05926-6f17-41b4-a407-c92412eb5f9c",
   "metadata": {},
   "outputs": [
    {
     "name": "stdout",
     "output_type": "stream",
     "text": [
      "TEXT >>>>>>>\n",
      "\n",
      "\n",
      "Profile: Dionysus\n",
      "\n",
      "\n",
      "\n",
      "\n",
      "\n",
      "Name: Dionysus\n",
      "\n",
      "Hometown: Mount Olympus\n",
      "\n",
      "Favorite animal: Leopard \n",
      "\n",
      "Favorite Color: Wine\n",
      "\n",
      "\n",
      "\n",
      "\n",
      "IMAGES ......  <img src=\"/static/dionysus.jpg\"/> <img src=\"/static/grapes.png\"/>\n",
      "image1.name .... img\n",
      "image1 src ...  /static/dionysus.jpg\n"
     ]
    }
   ],
   "source": [
    "print (\"TEXT >>>>>>>\")\n",
    "print(soup.get_text())\n",
    "image1, image2 = soup.find_all(\"img\") #use find_all() to return a list of all instances of a particular tag\n",
    "print (\"IMAGES ...... \",image1, image2)\n",
    "print(\"image1.name ....\",image1.name)\n",
    "print (\"image1 src ... \", image1[\"src\"])"
   ]
  },
  {
   "cell_type": "code",
   "execution_count": 13,
   "id": "c9e894c6-84d4-4d4b-ba43-0bb7eb1dcfc0",
   "metadata": {},
   "outputs": [
    {
     "data": {
      "text/plain": [
       "<title>Profile: Dionysus</title>"
      ]
     },
     "execution_count": 13,
     "metadata": {},
     "output_type": "execute_result"
    }
   ],
   "source": [
    "#Certain tags in HTML documents can be accessed by properties of the Tag object. \n",
    "soup.title"
   ]
  },
  {
   "cell_type": "code",
   "execution_count": null,
   "id": "aab109a8-dfbc-42b7-9693-3029591f68e2",
   "metadata": {},
   "outputs": [],
   "source": []
  }
 ],
 "metadata": {
  "kernelspec": {
   "display_name": "Python 3 (ipykernel)",
   "language": "python",
   "name": "python3"
  },
  "language_info": {
   "codemirror_mode": {
    "name": "ipython",
    "version": 3
   },
   "file_extension": ".py",
   "mimetype": "text/x-python",
   "name": "python",
   "nbconvert_exporter": "python",
   "pygments_lexer": "ipython3",
   "version": "3.7.10"
  }
 },
 "nbformat": 4,
 "nbformat_minor": 5
}
