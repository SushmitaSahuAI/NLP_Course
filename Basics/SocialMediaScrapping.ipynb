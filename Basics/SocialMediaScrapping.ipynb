{
 "cells": [
  {
   "cell_type": "code",
   "execution_count": 3,
   "id": "88818e9b-11b7-48e7-a196-256196d0d614",
   "metadata": {},
   "outputs": [
    {
     "name": "stdout",
     "output_type": "stream",
     "text": [
      "Collecting socialreaper\n",
      "  Downloading socialreaper-1.0.3.tar.gz (1.1 MB)\n",
      "\u001b[K     |████████████████████████████████| 1.1 MB 34.2 MB/s eta 0:00:01\n",
      "\u001b[?25hRequirement already satisfied: requests>=2.11.1 in /opt/conda/lib/python3.7/site-packages (from socialreaper) (2.25.1)\n",
      "Requirement already satisfied: requests-oauthlib>=0.7.0 in /opt/conda/lib/python3.7/site-packages (from socialreaper) (1.3.0)\n",
      "Requirement already satisfied: oauthlib>=2.0.1 in /opt/conda/lib/python3.7/site-packages (from socialreaper) (3.1.1)\n",
      "Requirement already satisfied: chardet<5,>=3.0.2 in /opt/conda/lib/python3.7/site-packages (from requests>=2.11.1->socialreaper) (4.0.0)\n",
      "Requirement already satisfied: idna<3,>=2.5 in /opt/conda/lib/python3.7/site-packages (from requests>=2.11.1->socialreaper) (2.10)\n",
      "Requirement already satisfied: certifi>=2017.4.17 in /opt/conda/lib/python3.7/site-packages (from requests>=2.11.1->socialreaper) (2021.10.8)\n",
      "Requirement already satisfied: urllib3<1.27,>=1.21.1 in /opt/conda/lib/python3.7/site-packages (from requests>=2.11.1->socialreaper) (1.26.6)\n",
      "Building wheels for collected packages: socialreaper\n",
      "  Building wheel for socialreaper (setup.py) ... \u001b[?25ldone\n",
      "\u001b[?25h  Created wheel for socialreaper: filename=socialreaper-1.0.3-py3-none-any.whl size=204000 sha256=f1ade6aa37edbefc6bf8f21912d7ae0005c281ba9b238397ce13396cfc6a8979\n",
      "  Stored in directory: /root/.cache/pip/wheels/6c/49/fc/dcfe06d5a2cf305b4f76a3987a0724984864d62c83fea4673c\n",
      "Successfully built socialreaper\n",
      "Installing collected packages: socialreaper\n",
      "Successfully installed socialreaper-1.0.3\n",
      "\u001b[33mWARNING: Running pip as the 'root' user can result in broken permissions and conflicting behaviour with the system package manager. It is recommended to use a virtual environment instead: https://pip.pypa.io/warnings/venv\u001b[0m\n"
     ]
    }
   ],
   "source": [
    "!pip install socialreaper"
   ]
  },
  {
   "cell_type": "code",
   "execution_count": null,
   "id": "c1d03951-6033-4ac8-af6b-bf6c2fc10ec5",
   "metadata": {},
   "outputs": [],
   "source": [
    "from socialreaper import Twitter\n",
    "from socialreaper.tools import to_csv\n",
    "\n",
    "twt = Twitter(app_key=\"xxx\", app_secret=\"xxx\", oauth_token=\"xxx\", \n",
    "    oauth_token_secret=\"xxx\")\n",
    "    \n",
    "tweets = twt.user(\"realDonaldTrump\", count=500, exclude_replies=True, \n",
    "    include_retweets=False)\n",
    "    \n",
    "to_csv(list(tweets), filename='trump.csv')\n",
    "\n"
   ]
  },
  {
   "cell_type": "code",
   "execution_count": null,
   "id": "e678918f-6b11-49aa-98ad-667163b53cb2",
   "metadata": {},
   "outputs": [],
   "source": []
  }
 ],
 "metadata": {
  "kernelspec": {
   "display_name": "Python 3 (ipykernel)",
   "language": "python",
   "name": "python3"
  },
  "language_info": {
   "codemirror_mode": {
    "name": "ipython",
    "version": 3
   },
   "file_extension": ".py",
   "mimetype": "text/x-python",
   "name": "python",
   "nbconvert_exporter": "python",
   "pygments_lexer": "ipython3",
   "version": "3.7.10"
  }
 },
 "nbformat": 4,
 "nbformat_minor": 5
}
