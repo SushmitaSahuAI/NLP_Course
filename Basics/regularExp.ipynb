{
 "cells": [
  {
   "cell_type": "markdown",
   "id": "601d3c8b-9ed0-4aeb-858d-9340cf6e7996",
   "metadata": {},
   "source": [
    "# Regex or Regular Expression\n",
    "Regex is used for searching and even replacing the specified text pattern. In the regular expression, a set of characters together form the search pattern. It is also known as reg-ex pattern. \n",
    "\n",
    "## Special Characters\n",
    "'^' : Matches the expression to its right at the start of a string. It matches every such instance before each \\n in the string.\n",
    "\n",
    "'$' : Matches the expression to its left at the end of a string. It matches every such instance before each \\n in the string.\n",
    "\n",
    "'.' : Matches any character except line terminators like \\n.\n",
    "\n",
    "'\\' : Escapes special characters or denotes character classes.\n",
    "\n",
    "'A|B' : Matches expression A or B. If A is matched first, B is left untried.\n",
    "\n",
    "'+' : Greedily matches the expression to its left 1 or more times.\n",
    "\n",
    "'*' : Greedily matches the expression to its left 0 or more times.\n",
    "\n",
    "'?' : Greedily matches the expression to its left 0 or 1 times. But if ? is added to qualifiers (+, *, and ? itself) it will perform matches in a non-greedy manner.\n",
    "\n",
    "'{m}' : Matches the expression to its left m times, and not less.\n",
    "\n",
    "'{m,n}' : Matches the expression to its left m to n times, and not less.\n",
    "\n",
    "'{m,n}?' : Matches the expression to its left m times, and ignores n.\n",
    "\n",
    "## Matching Characters or Character Classes or Special Sequences \n",
    "\\d\n",
    "Matches any decimal digit; this is equivalent to the class [0-9].\n",
    "\n",
    "\\D\n",
    "Matches any non-digit character; this is equivalent to the class [^0-9].\n",
    "\n",
    "\\s\n",
    "Matches any whitespace character; this is equivalent to the class [ \\t\\n\\r\\f\\v].\n",
    "\n",
    "\\S\n",
    "Matches any non-whitespace character; this is equivalent to the class [^ \\t\\n\\r\\f\\v].\n",
    "\n",
    "\\w\n",
    "Matches any alphanumeric character; this is equivalent to the class [a-zA-Z0-9_].\n",
    "\n",
    "\\W\n",
    "Matches any non-alphanumeric character; this is equivalent to the class [^a-zA-Z0-9_].\n",
    "\n",
    "## Sets\n",
    "[ ] : Contains a set of characters to match.\n",
    "\n",
    "[amk] : Matches either a, m, or k. It does not match amk.\n",
    "\n",
    "[a-z] : Matches any alphabet from a to z.\n",
    "\n",
    "[a\\-z] : Matches a, -, or z. It matches - because \\ escapes it.\n",
    "\n",
    "[a-] : Matches a or -, because - is not being used to indicate a series of characters.\n",
    "\n",
    "[-a] : As above, matches a or -.\n",
    "\n",
    "[a-z0-9] : Matches characters from a to z and also from 0 to 9.\n",
    "\n",
    "[(+*)] : Special characters become literal inside a set, so this matches (, +, *, and ).\n",
    "\n",
    "[^ab5] : Adding ^ excludes any character in the set. Here, it matches characters that are not a, b, or 5."
   ]
  },
  {
   "cell_type": "markdown",
   "id": "281d747d-1a5f-42ae-9f57-868eba5a3402",
   "metadata": {},
   "source": [
    "## Python functions for regex matching\n",
    "<img src=\"regexFunctions.PNG\">\n",
    "\n",
    "match() and search() return None if no match can be found. If they’re successful, a match object instance is returned, containing information about the match: where it starts and ends, the substring it matched, and more."
   ]
  },
  {
   "cell_type": "markdown",
   "id": "f51bc7a4-3b4a-4050-9e39-3b146d1c22c5",
   "metadata": {},
   "source": [
    "# RegEx Module\n",
    "Python has a built-in package called re, which can be used to work with Regular Expressions."
   ]
  },
  {
   "cell_type": "code",
   "execution_count": 1,
   "id": "0e545fcf-881a-4ae2-a95a-5a97f4fcd3e4",
   "metadata": {},
   "outputs": [
    {
     "data": {
      "text/plain": [
       "re.compile(r'[a-z]+', re.UNICODE)"
      ]
     },
     "execution_count": 1,
     "metadata": {},
     "output_type": "execute_result"
    }
   ],
   "source": [
    "import re\n",
    "p = re.compile('[a-z]+')\n",
    "p"
   ]
  },
  {
   "cell_type": "code",
   "execution_count": 2,
   "id": "ea7b63ca-bc1e-4761-ad49-128cbd80ad67",
   "metadata": {},
   "outputs": [
    {
     "name": "stdout",
     "output_type": "stream",
     "text": [
      "None\n"
     ]
    }
   ],
   "source": [
    "p.match(\"\")\n",
    "print(p.match(\"\"))"
   ]
  },
  {
   "cell_type": "code",
   "execution_count": 3,
   "id": "58eaa1ed-88c0-4096-8e3d-433c779d007c",
   "metadata": {},
   "outputs": [
    {
     "data": {
      "text/plain": [
       "<re.Match object; span=(0, 5), match='tempo'>"
      ]
     },
     "execution_count": 3,
     "metadata": {},
     "output_type": "execute_result"
    }
   ],
   "source": [
    "m = p.match('tempo')\n",
    "m"
   ]
  },
  {
   "cell_type": "code",
   "execution_count": null,
   "id": "96ca95c3-fd7a-4b6a-a5f3-c0cc77aaff01",
   "metadata": {},
   "outputs": [
    {
     "data": {
      "text/plain": [
       "<re.Match object; span=(0, 5), match='sugar'>"
      ]
     },
     "execution_count": 4,
     "metadata": {},
     "output_type": "execute_result"
    }
   ],
   "source": [
    "n = p.match(\"sugar4me&salt4every1\")\n",
    "n"
   ]
  },
  {
   "cell_type": "markdown",
   "id": "cd95a587-084b-45ad-85f4-040054c611c7",
   "metadata": {},
   "source": [
    "\n",
    "We can query match object for information about matching string. \n",
    "<img src = \"match.PNG\">"
   ]
  },
  {
   "cell_type": "code",
   "execution_count": 5,
   "id": "95d26de9-1406-45e1-90ba-74097a1ab223",
   "metadata": {},
   "outputs": [
    {
     "name": "stdout",
     "output_type": "stream",
     "text": [
      "tempo\n",
      "0 5\n",
      "(0, 5)\n"
     ]
    }
   ],
   "source": [
    "print(m.group())\n",
    "print(m.start(), m.end())\n",
    "print(m.span())\n"
   ]
  },
  {
   "cell_type": "code",
   "execution_count": 29,
   "id": "2255bc43-a34d-46ac-ab9b-2f33618e99d8",
   "metadata": {},
   "outputs": [
    {
     "name": "stdout",
     "output_type": "stream",
     "text": [
      "801 35\n"
     ]
    }
   ],
   "source": [
    "string = '39801 356, 2102 1111'\n",
    "\n",
    "# Three digit number followed by space followed by two digit number\n",
    "pattern = '(\\d{3}) (\\d{2})'\n",
    "\n",
    "# match variable contains a Match object.\n",
    "match = re.search(pattern, string) \n",
    "\n",
    "if match:\n",
    "  print(match.group())\n",
    "else:\n",
    "  print(\"pattern not found\")"
   ]
  },
  {
   "cell_type": "markdown",
   "id": "ac64c50b-45b0-4c71-922e-e7a191137090",
   "metadata": {},
   "source": [
    "### search()\n",
    "match() method only checks if the RE matches at the start of a string, start() will always be zero. However, the search() method of patterns scans through the string, so the match may not start at zero in that case."
   ]
  },
  {
   "cell_type": "code",
   "execution_count": 7,
   "id": "918430e2-1efd-4402-9dba-9af8058a173e",
   "metadata": {},
   "outputs": [
    {
     "name": "stdout",
     "output_type": "stream",
     "text": [
      "None\n"
     ]
    }
   ],
   "source": [
    "print(p.match('::: message'))"
   ]
  },
  {
   "cell_type": "code",
   "execution_count": 11,
   "id": "ed731e5c-fec9-4c6a-ad8f-2ec6ccccf135",
   "metadata": {},
   "outputs": [
    {
     "name": "stdout",
     "output_type": "stream",
     "text": [
      "<re.Match object; span=(5, 9), match='ello'>\n",
      "ello\n",
      "(5, 9)\n"
     ]
    }
   ],
   "source": [
    "m = p.search('::: Hello world'); print(m)\n",
    "print (m.group())\n",
    "print (m.span())"
   ]
  },
  {
   "cell_type": "markdown",
   "id": "94877b69-12f3-4e17-8fe0-2c5e691f9133",
   "metadata": {},
   "source": [
    "### findall()\n",
    "findall() returns a list of matching strings. The list contains the matches in the order they are found.\n",
    "If no matches are found, an empty list is returned"
   ]
  },
  {
   "cell_type": "code",
   "execution_count": 13,
   "id": "186562fa-e587-4828-9ee8-c47841ec06ea",
   "metadata": {},
   "outputs": [
    {
     "name": "stdout",
     "output_type": "stream",
     "text": [
      "['ing', 'ing']\n",
      "[]\n"
     ]
    }
   ],
   "source": [
    "txt = \"Its raining and drizzling\"\n",
    "x = re.findall(\"ing\", txt)\n",
    "print(x)\n",
    "y = re.findall(\"hello\", txt)\n",
    "print (y)"
   ]
  },
  {
   "cell_type": "markdown",
   "id": "79e20dce-bf35-4030-975a-d5e73a3090e1",
   "metadata": {},
   "source": [
    "# finditer()\n",
    "findall() has to create the entire list before it can be returned as the result. The finditer() method returns a sequence of match object instances as an iterator:"
   ]
  },
  {
   "cell_type": "code",
   "execution_count": 14,
   "id": "0e69e46d-6596-4715-ab3a-f8e244ba399c",
   "metadata": {},
   "outputs": [
    {
     "name": "stdout",
     "output_type": "stream",
     "text": [
      "(0, 2)\n",
      "(17, 19)\n",
      "(24, 26)\n"
     ]
    }
   ],
   "source": [
    "p = re.compile(r'\\d+')\n",
    "iterator = p.finditer('12 kids running, 11 ... 10 ...')\n",
    "for match in iterator:\n",
    "    print(match.span())"
   ]
  },
  {
   "cell_type": "markdown",
   "id": "fe7e8144-d7ac-4561-b4ea-a22888aa519f",
   "metadata": {},
   "source": [
    "# re.compile() \n",
    "Regular expressions are compiled into pattern objects, which have methods for various operations such as searching for pattern matches or performing string substitutions. "
   ]
  },
  {
   "cell_type": "code",
   "execution_count": 17,
   "id": "35d3ff9e-00a4-45da-b751-a59ddd50cf29",
   "metadata": {},
   "outputs": [
    {
     "name": "stdout",
     "output_type": "stream",
     "text": [
      "['e', 'a', 'd', 'e', 'e', 'e']\n"
     ]
    }
   ],
   "source": [
    "p = re.compile('[a-e]') #compile() creates regular expression\n",
    "print(p.findall(\"HArry Potter and the Philosopher's stone.\"))"
   ]
  },
  {
   "cell_type": "code",
   "execution_count": 18,
   "id": "9b4e3e8b-0df7-48fe-b622-9d23bd616ca3",
   "metadata": {},
   "outputs": [
    {
     "name": "stdout",
     "output_type": "stream",
     "text": [
      "['H', 'e', 's', 'a', 'i', 'd', 'i', 'n', 's', 'o', 'm', 'e', '_', 'l', 'a', 'n', 'g']\n",
      "['I', 'went', 'to', 'him', 'at', '11', 'A', 'M', 'he', 'said', 'in', 'some_language']\n",
      "[' ', ' ', '*', '*', '*', ' ', ' ', '.']\n"
     ]
    }
   ],
   "source": [
    "# \\w is equivalent to [a-zA-Z0-9_].\n",
    "p = re.compile('\\w')\n",
    "print(p.findall(\"He said * in some_lang.\"))\n",
    "\n",
    "# \\w+ matches to group of alphanumeric character.\n",
    "p = re.compile('\\w+')\n",
    "print(p.findall(\"I went to him at 11 A.M., he \\\n",
    "said *** in some_language.\"))\n",
    "\n",
    "# \\W matches to non alphanumeric characters.\n",
    "p = re.compile('\\W')\n",
    "print(p.findall(\"he said *** in some_language.\"))\n"
   ]
  },
  {
   "cell_type": "code",
   "execution_count": 21,
   "id": "d42e8ff3-3d81-4ce7-9363-26a743328348",
   "metadata": {},
   "outputs": [
    {
     "name": "stdout",
     "output_type": "stream",
     "text": [
      "['ab', 'abb', 'a', 'abbb']\n"
     ]
    }
   ],
   "source": [
    "p = re.compile('ab*') #‘a’ accompanied by any no. of ‘b’s, starting from 0.\n",
    "print(p.findall(\"ababbaabbb\"))\n"
   ]
  },
  {
   "cell_type": "markdown",
   "id": "055047a6-c91c-46d0-966e-a28f828728e8",
   "metadata": {},
   "source": [
    "# re.split()\n",
    "re.split method splits the string where there is a match and returns a list of strings where the splits have occurred."
   ]
  },
  {
   "cell_type": "code",
   "execution_count": 22,
   "id": "dade219e-0da2-4f76-b2eb-f41897e2e5f0",
   "metadata": {},
   "outputs": [
    {
     "name": "stdout",
     "output_type": "stream",
     "text": [
      "['Twelve:', ' Eighty nine:', '.']\n"
     ]
    }
   ],
   "source": [
    "string = 'Twelve:12 Eighty nine:89.'\n",
    "pattern = '\\d+'\n",
    "\n",
    "result = re.split(pattern, string) \n",
    "print(result)\n"
   ]
  },
  {
   "cell_type": "markdown",
   "id": "b78fcfee-9c45-4b8e-8e97-9988493f9062",
   "metadata": {},
   "source": [
    "Passing maxsplit argument to the re.split() method. It's the maximum number of splits that will occur."
   ]
  },
  {
   "cell_type": "code",
   "execution_count": 23,
   "id": "dff2ecf5-bc13-4763-a7d2-b3217648b4ee",
   "metadata": {},
   "outputs": [
    {
     "name": "stdout",
     "output_type": "stream",
     "text": [
      "['Twelve:', ' Eighty nine:89.']\n"
     ]
    }
   ],
   "source": [
    "# maxsplit = 1\n",
    "# split only at the first occurrence\n",
    "result = re.split(pattern, string, 1) \n",
    "print(result)"
   ]
  },
  {
   "cell_type": "markdown",
   "id": "3e4aa6a6-96d8-44b1-a2a0-41e9bf620229",
   "metadata": {},
   "source": [
    "# re.sub()\n",
    "re.sub(pattern, replace, string)\n",
    "returns a string where matched occurrences are replaced with the content of replace variable. If the pattern is not found, re.sub() returns the original string."
   ]
  },
  {
   "cell_type": "code",
   "execution_count": 27,
   "id": "e23cfd4f-507b-4397-8491-835048ff3dea",
   "metadata": {},
   "outputs": [
    {
     "name": "stdout",
     "output_type": "stream",
     "text": [
      "abc12de23f456\n",
      "abc12de 23 \n",
      " f45 6\n"
     ]
    }
   ],
   "source": [
    "# remove all whitespaces\n",
    "# multiline string\n",
    "string = 'abc 12\\\n",
    "de 23 \\n f45 6'\n",
    "\n",
    "# matches all whitespace characters\n",
    "pattern = '\\s+'\n",
    "\n",
    "# empty string\n",
    "replace = ''\n",
    "\n",
    "new_string = re.sub(pattern, replace, string) \n",
    "print(new_string)\n",
    "\n",
    "# a fourth paramater 'count' can be passed. If omited, it results to 0. This will replace all occurrences.\n",
    "new_string = re.sub(r'\\s+', replace, string, 1) \n",
    "print(new_string)"
   ]
  },
  {
   "cell_type": "markdown",
   "id": "7ecf5bf8-3348-4d27-9607-7426d3d266df",
   "metadata": {},
   "source": [
    "# re.subn()\n",
    "The re.subn() is similar to re.sub() except it returns a tuple of 2 items containing the new string and the number of substitutions made."
   ]
  },
  {
   "cell_type": "code",
   "execution_count": 28,
   "id": "b273b709-276c-40c0-9d9c-eb2ea976478f",
   "metadata": {},
   "outputs": [
    {
     "name": "stdout",
     "output_type": "stream",
     "text": [
      "('abc12de23f456', 4)\n"
     ]
    }
   ],
   "source": [
    "# multiline string\n",
    "string = 'abc 12\\\n",
    "de 23 \\n f45 6'\n",
    "\n",
    "# matches all whitespace characters\n",
    "pattern = '\\s+'\n",
    "\n",
    "# empty string\n",
    "replace = ''\n",
    "\n",
    "new_string = re.subn(pattern, replace, string) \n",
    "print(new_string)"
   ]
  },
  {
   "cell_type": "markdown",
   "id": "c40b93a7-720d-48a8-9dba-7f5cbe5002f5",
   "metadata": {},
   "source": [
    "# Using r prefix before RegEx\n",
    "When r or R prefix is used before a regular expression, it means raw string. For example, '\\n' is a new line whereas r'\\n' means two characters: a backslash \\ followed by n.\n",
    "\n",
    "Backlash \\ is used to escape various characters including all metacharacters. However, using r prefix makes \\ treat as a normal character."
   ]
  },
  {
   "cell_type": "code",
   "execution_count": 30,
   "id": "63058868-48d6-4768-ab1a-188befc7cff5",
   "metadata": {},
   "outputs": [
    {
     "name": "stdout",
     "output_type": "stream",
     "text": [
      "['\\n', '\\r']\n"
     ]
    }
   ],
   "source": [
    "string = '\\n and \\r are escape sequences.'\n",
    "\n",
    "result = re.findall(r'[\\n\\r]', string) \n",
    "print(result)"
   ]
  },
  {
   "cell_type": "markdown",
   "id": "815d1f0c-9a66-4679-8792-e8d9f8e0d66f",
   "metadata": {},
   "source": [
    "# Working with metacharacters"
   ]
  },
  {
   "cell_type": "code",
   "execution_count": 32,
   "id": "4483181f-e5a7-410d-9cc6-9eb6e4d0b2b6",
   "metadata": {},
   "outputs": [
    {
     "name": "stdout",
     "output_type": "stream",
     "text": [
      "<re.Match object; span=(0, 4), match='From'>\n",
      "None\n"
     ]
    }
   ],
   "source": [
    "# ^ Matches at beginning of line.\n",
    "print(re.search('^From', 'From Here to Eternity'))  \n",
    "print(re.search('^From', 'Reciting From Memory'))"
   ]
  },
  {
   "cell_type": "code",
   "execution_count": 41,
   "id": "63e7f080-0992-4ce5-91c8-a042a07629d5",
   "metadata": {},
   "outputs": [
    {
     "name": "stdout",
     "output_type": "stream",
     "text": [
      "<re.Match object; span=(2, 5), match='iig'>\n"
     ]
    }
   ],
   "source": [
    " ## . = any char but \\n\n",
    "print(re.search(r'..g', 'piiig'))"
   ]
  },
  {
   "cell_type": "code",
   "execution_count": 42,
   "id": "fcfc2bb4-9e19-4127-b83b-c4055c700f4b",
   "metadata": {},
   "outputs": [
    {
     "name": "stdout",
     "output_type": "stream",
     "text": [
      "<re.Match object; span=(0, 4), match='piii'>\n",
      "<re.Match object; span=(1, 3), match='ii'>\n",
      "<re.Match object; span=(2, 9), match='1 2   3'>\n",
      "<re.Match object; span=(2, 7), match='12  3'>\n",
      "<re.Match object; span=(2, 5), match='123'>\n"
     ]
    }
   ],
   "source": [
    "## i+ = one or more i's, as many as possible.\n",
    "print(re.search(r'pi+', 'piiig'))\n",
    "## Finds the first/leftmost solution, and within it drives the +\n",
    "  ## as far as possible (aka 'leftmost and largest').\n",
    "  ## In this example, note that it does not get to the second set of i's.\n",
    "print(re.search(r'i+', 'piigiiii'))\n",
    "\n",
    "## \\s* = zero or more whitespace chars\n",
    "## Here look for 3 digits, possibly separated by whitespace.\n",
    "print(re.search(r'\\d\\s*\\d\\s*\\d', 'xx1 2   3xx'))\n",
    "print(re.search(r'\\d\\s*\\d\\s*\\d', 'xx12  3xx'))\n",
    "print(re.search(r'\\d\\s*\\d\\s*\\d', 'xx123xx'))"
   ]
  },
  {
   "cell_type": "code",
   "execution_count": 33,
   "id": "50f1ccbd-c4f7-432a-85c6-5b19ba056316",
   "metadata": {},
   "outputs": [
    {
     "name": "stdout",
     "output_type": "stream",
     "text": [
      "<re.Match object; span=(6, 7), match='}'>\n",
      "None\n",
      "<re.Match object; span=(6, 7), match='}'>\n"
     ]
    }
   ],
   "source": [
    "# $\n",
    "# Matches at the end of a line, which is defined as either the end of the string, or any location followed by a newline character.\n",
    "print(re.search('}$', '{block}'))  \n",
    "print(re.search('}$', '{block} '))\n",
    "print(re.search('}$', '{block}\\n')) \n",
    "###### To match a literal '$', use \\$ or enclose it inside a character class, as in [$]."
   ]
  },
  {
   "cell_type": "code",
   "execution_count": 38,
   "id": "2ca2da24-35ab-432f-be4b-ab28d543eff2",
   "metadata": {},
   "outputs": [
    {
     "name": "stdout",
     "output_type": "stream",
     "text": [
      "<re.Match object; span=(3, 8), match='class'>\n",
      "None\n",
      "None\n",
      "None\n",
      "None\n",
      "<re.Match object; span=(5, 10), match='class'>\n"
     ]
    }
   ],
   "source": [
    "# \\b\n",
    "# Word boundary. A word is defined as a sequence of alphanumeric(including underscore) characters, so the end of a word is indicated by whitespace or a non-alphanumeric character.\n",
    "p = re.compile(r'\\bclass\\b')\n",
    "print(p.search('no class at all'))\n",
    "print(p.search('the declassified algorithm'))\n",
    "print(p.search('one subclass is'))\n",
    "print(p.search('one $class123 is'))\n",
    "print(p.search('one $class_ is'))\n",
    "print(p.search('one $class% is'))\n",
    "#### In Python’s string literals, \\b is the backspace character, ASCII value 8. If you’re not using raw strings, then Python will convert the \\b to a backspace, and your RE won’t match as you expect it to."
   ]
  },
  {
   "cell_type": "markdown",
   "id": "188df45f-634e-4a1c-8466-4525fa79e30f",
   "metadata": {},
   "source": [
    "# Grouping\n",
    "A group is a part of a regex pattern enclosed in parentheses () metacharacter. We create a group by placing the regex pattern inside the set of parentheses ( and ) . For example, the regular expression (cat) creates a single group containing the letters ‘c’, ‘a’, and ‘t’.\n",
    "In real world usecases, groups are needed to capture emails , phone number. \n",
    "\n",
    "We can use the groups() and group() method of match object to get the matched values."
   ]
  },
  {
   "cell_type": "code",
   "execution_count": 39,
   "id": "8f6c3b1b-a7f4-4c4a-abab-25c257c17094",
   "metadata": {},
   "outputs": [
    {
     "name": "stdout",
     "output_type": "stream",
     "text": [
      "('SHAKESPEAR', '1564')\n",
      "SHAKESPEAR\n",
      "1564\n"
     ]
    }
   ],
   "source": [
    "target_string = \"William SHAKESPEAR was born in 1564.\"\n",
    "\n",
    "# two groups enclosed in separate ( and ) bracket\n",
    "result = re.search(r\"(\\b[A-Z]+\\b).+(\\b\\d+)\", target_string)\n",
    "\n",
    "# Extract matching values of all groups\n",
    "print(result.groups())\n",
    "\n",
    "# Extract match value of group 1\n",
    "print(result.group(1))\n",
    "\n",
    "# Extract match value of group 2\n",
    "print(result.group(2))"
   ]
  },
  {
   "cell_type": "code",
   "execution_count": 40,
   "id": "519a2b43-c2fa-45a4-9379-00bf1b453b6d",
   "metadata": {},
   "outputs": [
    {
     "name": "stdout",
     "output_type": "stream",
     "text": [
      "PINEAPPLE\n",
      "20\n",
      "MANGO\n",
      "30\n",
      "CHOCOLATE\n",
      "40\n"
     ]
    }
   ],
   "source": [
    "target_string = \"The price of ice-creams PINEAPPLE 20 MANGO 30 CHOCOLATE 40\"\n",
    "\n",
    "# two groups enclosed in separate ( and ) bracket\n",
    "# group 1: find all uppercase letter\n",
    "# group 2: find all numbers\n",
    "# you can compile a pattern or directly pass to the finditer() method\n",
    "pattern = re.compile(r\"(\\b[A-Z]+\\b).(\\b\\d+\\b)\")\n",
    "\n",
    "# find all matches to groups\n",
    "for match in pattern.finditer(target_string):\n",
    "    # extract words\n",
    "    print(match.group(1))\n",
    "    # extract numbers\n",
    "    print(match.group(2))"
   ]
  },
  {
   "cell_type": "code",
   "execution_count": 43,
   "id": "9b8d8a05-2038-4ade-b192-c1ba7391abde",
   "metadata": {},
   "outputs": [
    {
     "name": "stdout",
     "output_type": "stream",
     "text": [
      "xyz@google\n"
     ]
    }
   ],
   "source": [
    "str = 'HelloWorld xyz@google.com regex python'\n",
    "match = re.search(r'\\w+@\\w+', str)\n",
    "if match:\n",
    "    print(match.group())  ## 'b@google'"
   ]
  },
  {
   "cell_type": "markdown",
   "id": "2298d8be-a30d-453e-ab55-de7c833c70a7",
   "metadata": {},
   "source": [
    "## Square Brackets\n",
    "Square brackets can be used to indicate a set of chars, so [abc] matches 'a' or 'b' or 'c'. The codes \\w, \\s etc. work inside square brackets too with the one exception that dot (.) just means a literal dot. "
   ]
  },
  {
   "cell_type": "code",
   "execution_count": 44,
   "id": "126d375a-6560-4b5b-a850-cb9e7a48df28",
   "metadata": {},
   "outputs": [
    {
     "name": "stdout",
     "output_type": "stream",
     "text": [
      "xyz@google.com\n"
     ]
    }
   ],
   "source": [
    "match = re.search(r'[\\w.-]+@[\\w.-]+', str)\n",
    "if match:\n",
    "    print(match.group())"
   ]
  },
  {
   "cell_type": "code",
   "execution_count": null,
   "id": "d6810577-cdf0-40d3-88b2-b06d47048919",
   "metadata": {},
   "outputs": [],
   "source": []
  }
 ],
 "metadata": {
  "kernelspec": {
   "display_name": "Python 3 (ipykernel)",
   "language": "python",
   "name": "python3"
  },
  "language_info": {
   "codemirror_mode": {
    "name": "ipython",
    "version": 3
   },
   "file_extension": ".py",
   "mimetype": "text/x-python",
   "name": "python",
   "nbconvert_exporter": "python",
   "pygments_lexer": "ipython3",
   "version": "3.7.10"
  }
 },
 "nbformat": 4,
 "nbformat_minor": 5
}
